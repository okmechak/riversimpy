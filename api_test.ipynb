{
 "cells": [
  {
   "cell_type": "markdown",
   "metadata": {},
   "source": [
    "# RiverSIM"
   ]
  },
  {
   "cell_type": "markdown",
   "metadata": {},
   "source": [
    "## Import"
   ]
  },
  {
   "cell_type": "markdown",
   "metadata": {},
   "source": [
    "Before running script, copy it to `<BuildFolder>/riversim/source` and after that you can run below commands."
   ]
  },
  {
   "cell_type": "code",
   "execution_count": 1,
   "metadata": {},
   "outputs": [],
   "source": [
    "import riversim"
   ]
  },
  {
   "cell_type": "markdown",
   "metadata": {},
   "source": [
    "## Geometry primitives"
   ]
  },
  {
   "cell_type": "markdown",
   "metadata": {},
   "source": [
    "### Polar"
   ]
  },
  {
   "cell_type": "code",
   "execution_count": 69,
   "metadata": {},
   "outputs": [
    {
     "name": "stdout",
     "output_type": "stream",
     "text": [
      "{\n",
      "    \"phi\": 1.0,\n",
      "    \"r\": 1.0\n",
      "}\n",
      "True\n",
      "False\n",
      "{\n",
      "    \"phi\": 2.0,\n",
      "    \"r\": 20.0\n",
      "}\n"
     ]
    }
   ],
   "source": [
    "polar1 = riversim.Polar(1, 1)\n",
    "print(polar1)\n",
    "\n",
    "polar2 = riversim.Polar()\n",
    "\n",
    "print(polar1 == polar2)\n",
    "print(polar1 != polar2)\n",
    "\n",
    "polar1.phi = 2\n",
    "polar1.r = 20\n",
    "print(polar1)"
   ]
  },
  {
   "cell_type": "markdown",
   "metadata": {},
   "source": [
    "### Point"
   ]
  },
  {
   "cell_type": "code",
   "execution_count": 70,
   "metadata": {
    "tags": []
   },
   "outputs": [
    {
     "name": "stdout",
     "output_type": "stream",
     "text": [
      "{\n",
      "    \"x\": 1.0,\n",
      "    \"y\": 1.0\n",
      "}\n",
      "1.4142135623730951\n",
      "45.001327204055606\n",
      "{\n",
      "    \"x\": 2.0,\n",
      "    \"y\": 2.0\n",
      "}\n",
      "2.0\n",
      "{\n",
      "    \"x\": 0.5,\n",
      "    \"y\": 0.5\n",
      "}\n",
      "error\n",
      "0.0\n"
     ]
    }
   ],
   "source": [
    "p = riversim.Point(1, 1)\n",
    "print(p)\n",
    "\n",
    "print(p.norm())\n",
    "\n",
    "print(p.angle()/3.1415*180)\n",
    "\n",
    "print(p*2)\n",
    "\n",
    "print(p*p)\n",
    "\n",
    "print(p/2)\n",
    "\n",
    "p.x = 0\n",
    "p.y = 0\n",
    "try:\n",
    "    p.normalize()\n",
    "except:\n",
    "    print(\"error\")\n",
    "print(p.norm())"
   ]
  },
  {
   "cell_type": "code",
   "execution_count": 71,
   "metadata": {},
   "outputs": [],
   "source": [
    "point1 = riversim.Point(1, 1)\n",
    "polar3 = riversim.toPolar(point1)\n",
    "point2 = riversim.Point(point1)\n",
    "point3 = riversim.Point(polar1)"
   ]
  },
  {
   "cell_type": "code",
   "execution_count": 72,
   "metadata": {},
   "outputs": [
    {
     "data": {
      "text/plain": [
       "-1.4901161193847656e-08"
      ]
     },
     "execution_count": 72,
     "metadata": {},
     "output_type": "execute_result"
    }
   ],
   "source": [
    "point1.angle(point1)"
   ]
  },
  {
   "cell_type": "code",
   "execution_count": 73,
   "metadata": {},
   "outputs": [
    {
     "data": {
      "text/plain": [
       "2.0"
      ]
     },
     "execution_count": 73,
     "metadata": {},
     "output_type": "execute_result"
    }
   ],
   "source": [
    "(point1 + point1).x"
   ]
  },
  {
   "cell_type": "code",
   "execution_count": 74,
   "metadata": {},
   "outputs": [],
   "source": [
    "point1 - point1\n",
    "point1 * point1\n",
    "point1 * 10\n",
    "point1 -= point1\n",
    "point1 += point1\n",
    "point1 *= 10"
   ]
  },
  {
   "cell_type": "code",
   "execution_count": 75,
   "metadata": {},
   "outputs": [
    {
     "name": "stdout",
     "output_type": "stream",
     "text": [
      "{\n",
      "    \"x\": 4.632679487995776e-05,\n",
      "    \"y\": 0.999999998926914\n",
      "}\n",
      "1.57075\n",
      "-0.0\n",
      "1.0\n"
     ]
    }
   ],
   "source": [
    "p = riversim.Point(1, 0)\n",
    "p.rotate(3.1415/2)\n",
    "print(p)\n",
    "print(riversim.Point.angle(p))\n",
    "print(riversim.Point.angle(p, p))\n",
    "print(riversim.Point.norm(p))"
   ]
  },
  {
   "cell_type": "code",
   "execution_count": 76,
   "metadata": {},
   "outputs": [
    {
     "name": "stdout",
     "output_type": "stream",
     "text": [
      "1.0\n",
      "2.0\n"
     ]
    }
   ],
   "source": [
    "p = riversim.Point(1, 2)\n",
    "print(p[0])\n",
    "print(p[1])"
   ]
  },
  {
   "cell_type": "markdown",
   "metadata": {},
   "source": [
    "## Boundary"
   ]
  },
  {
   "cell_type": "markdown",
   "metadata": {},
   "source": [
    "### t_boundary"
   ]
  },
  {
   "cell_type": "code",
   "execution_count": 77,
   "metadata": {
    "tags": []
   },
   "outputs": [
    {
     "name": "stdout",
     "output_type": "stream",
     "text": [
      "DIRICHLET\n",
      "NEUMAN\n",
      "NEUMAN\n"
     ]
    }
   ],
   "source": [
    "bound_test = riversim.t_boundary()\n",
    "print(bound_test.DIRICHLET)\n",
    "print(bound_test.NEUMAN)\n",
    "\n",
    "print(riversim.NEUMAN)"
   ]
  },
  {
   "cell_type": "code",
   "execution_count": 78,
   "metadata": {
    "tags": []
   },
   "outputs": [
    {
     "name": "stdout",
     "output_type": "stream",
     "text": [
      "DIRICHLET\n"
     ]
    }
   ],
   "source": [
    "print(riversim.t_boundary.DIRICHLET)"
   ]
  },
  {
   "cell_type": "code",
   "execution_count": 79,
   "metadata": {},
   "outputs": [
    {
     "name": "stdout",
     "output_type": "stream",
     "text": [
      "True\n",
      "True\n"
     ]
    }
   ],
   "source": [
    "print(riversim.t_boundary.DIRICHLET == bound_test.DIRICHLET)\n",
    "print(bound_test.DIRICHLET == riversim.DIRICHLET)"
   ]
  },
  {
   "cell_type": "markdown",
   "metadata": {},
   "source": [
    "### BoundaryCondition"
   ]
  },
  {
   "cell_type": "code",
   "execution_count": 80,
   "metadata": {},
   "outputs": [
    {
     "name": "stdout",
     "output_type": "stream",
     "text": [
      "{\n",
      "    \"type\": \"Dirichlet\",\n",
      "    \"value\": 0.0\n",
      "}\n",
      "{\n",
      "    \"type\": \"Neuman\",\n",
      "    \"value\": 100.0\n",
      "}\n",
      "{\n",
      "    \"type\": \"Neuman\",\n",
      "    \"value\": -2.0\n",
      "}\n"
     ]
    }
   ],
   "source": [
    "bc_test = riversim.BoundaryCondition()\n",
    "print(bc_test)\n",
    "bc_test.value = 100\n",
    "bc_test.type = riversim.t_boundary.NEUMAN\n",
    "print(bc_test)\n",
    "bc_test = riversim.BoundaryCondition(riversim.NEUMAN, -2)\n",
    "print(bc_test)"
   ]
  },
  {
   "cell_type": "markdown",
   "metadata": {},
   "source": [
    "### t_BoundaryConditions and BoundaryConditions"
   ]
  },
  {
   "cell_type": "code",
   "execution_count": 81,
   "metadata": {},
   "outputs": [
    {
     "name": "stdout",
     "output_type": "stream",
     "text": [
      "[]\n",
      "{\n",
      "    \"boundary_conditions\": []\n",
      "}\n"
     ]
    }
   ],
   "source": [
    "t_bcs = riversim.t_BoundaryConditions()\n",
    "print(t_bcs)\n",
    "bcs = riversim.BoundaryConditions()\n",
    "print(bcs)"
   ]
  },
  {
   "cell_type": "code",
   "execution_count": 82,
   "metadata": {},
   "outputs": [
    {
     "name": "stdout",
     "output_type": "stream",
     "text": [
      "{\n",
      "    \"boundary_conditions\": [\n",
      "        [\n",
      "            1,\n",
      "            {\n",
      "                \"type\": \"Neuman\",\n",
      "                \"value\": 9.9\n",
      "            }\n",
      "        ],\n",
      "        [\n",
      "            2,\n",
      "            {\n",
      "                \"type\": \"Dirichlet\",\n",
      "                \"value\": 13.8\n",
      "            }\n",
      "        ]\n",
      "    ]\n",
      "}\n",
      "[\n",
      "    [\n",
      "        1,\n",
      "        {\n",
      "            \"type\": \"Neuman\",\n",
      "            \"value\": 9.9\n",
      "        }\n",
      "    ],\n",
      "    [\n",
      "        2,\n",
      "        {\n",
      "            \"type\": \"Dirichlet\",\n",
      "            \"value\": 13.8\n",
      "        }\n",
      "    ]\n",
      "]\n"
     ]
    }
   ],
   "source": [
    "bc_1 = riversim.BoundaryCondition()\n",
    "bc_1.value = 9.9\n",
    "bc_1.type = riversim.t_boundary.NEUMAN\n",
    "\n",
    "bc_2 = riversim.BoundaryCondition()\n",
    "bc_2.value = 13.8\n",
    "bc_2.type = riversim.t_boundary.DIRICHLET\n",
    "\n",
    "t_bcs[1] = bc_1\n",
    "t_bcs[2] = bc_2\n",
    "bcs[1] = bc_1\n",
    "bcs[2] = bc_2\n",
    "print(bcs)\n",
    "print(t_bcs)"
   ]
  },
  {
   "cell_type": "code",
   "execution_count": 83,
   "metadata": {
    "tags": []
   },
   "outputs": [
    {
     "name": "stdout",
     "output_type": "stream",
     "text": [
      "9.9\n",
      "NEUMAN\n"
     ]
    }
   ],
   "source": [
    "print(t_bcs[1].value)\n",
    "print(t_bcs[1].type)"
   ]
  },
  {
   "cell_type": "code",
   "execution_count": 84,
   "metadata": {
    "tags": []
   },
   "outputs": [
    {
     "name": "stdout",
     "output_type": "stream",
     "text": [
      "13.8\n",
      "DIRICHLET\n"
     ]
    }
   ],
   "source": [
    "print(t_bcs[2].value)\n",
    "print(t_bcs[2].type)"
   ]
  },
  {
   "cell_type": "code",
   "execution_count": 85,
   "metadata": {
    "tags": []
   },
   "outputs": [
    {
     "name": "stdout",
     "output_type": "stream",
     "text": [
      "3.0\n",
      "NEUMAN\n"
     ]
    }
   ],
   "source": [
    "t_bcs[1].value = 3\n",
    "print(t_bcs[1].value)\n",
    "print(t_bcs[1].type)"
   ]
  },
  {
   "cell_type": "markdown",
   "metadata": {},
   "source": [
    "#### This looks like working example\n",
    "\n",
    "getter and setter"
   ]
  },
  {
   "cell_type": "code",
   "execution_count": 86,
   "metadata": {
    "tags": []
   },
   "outputs": [
    {
     "name": "stdout",
     "output_type": "stream",
     "text": [
      "123.0\n",
      "DIRICHLET\n",
      "45.0\n",
      "NEUMAN\n"
     ]
    }
   ],
   "source": [
    "a = t_bcs[1]\n",
    "b = t_bcs[2]\n",
    "a.value = 123\n",
    "a.type = riversim.t_boundary.DIRICHLET\n",
    "b.value = 45\n",
    "b.type = riversim.t_boundary.NEUMAN\n",
    "t_bcs[1] = a\n",
    "t_bcs[2] = b\n",
    "print(t_bcs[1].value)\n",
    "print(t_bcs[1].type)\n",
    "print(t_bcs[2].value)\n",
    "print(t_bcs[2].type)"
   ]
  },
  {
   "cell_type": "markdown",
   "metadata": {},
   "source": [
    "without proxy"
   ]
  },
  {
   "cell_type": "code",
   "execution_count": 87,
   "metadata": {
    "tags": []
   },
   "outputs": [
    {
     "name": "stdout",
     "output_type": "stream",
     "text": [
      "124.0\n",
      "DIRICHLET\n",
      "44.0\n",
      "NEUMAN\n"
     ]
    }
   ],
   "source": [
    "t_bcs[1].value = 124\n",
    "t_bcs[1].type = riversim.t_boundary.DIRICHLET\n",
    "t_bcs[2].value = 44\n",
    "t_bcs[2].type = riversim.t_boundary.NEUMAN\n",
    "print(t_bcs[1].value)\n",
    "print(t_bcs[1].type)\n",
    "print(t_bcs[2].value)\n",
    "print(t_bcs[2].type)"
   ]
  },
  {
   "cell_type": "markdown",
   "metadata": {},
   "source": [
    "deletion"
   ]
  },
  {
   "cell_type": "code",
   "execution_count": 88,
   "metadata": {},
   "outputs": [
    {
     "name": "stdout",
     "output_type": "stream",
     "text": [
      "True\n",
      "False\n"
     ]
    }
   ],
   "source": [
    "del t_bcs[1]\n",
    "print(2 in t_bcs)\n",
    "print(1 in t_bcs)"
   ]
  },
  {
   "cell_type": "markdown",
   "metadata": {},
   "source": [
    "### BoundaryConditions"
   ]
  },
  {
   "cell_type": "code",
   "execution_count": 89,
   "metadata": {},
   "outputs": [
    {
     "data": {
      "text/plain": [
       "{\n",
       "    \"boundary_conditions\": []\n",
       "}"
      ]
     },
     "execution_count": 89,
     "metadata": {},
     "output_type": "execute_result"
    }
   ],
   "source": [
    "bcs = riversim.BoundaryConditions()\n",
    "bcs"
   ]
  },
  {
   "cell_type": "markdown",
   "metadata": {},
   "source": [
    "#### lets check map methods, cos BoundaryConditions is child of t_BoundaryConditions"
   ]
  },
  {
   "cell_type": "markdown",
   "metadata": {},
   "source": [
    "##### getter and setter"
   ]
  },
  {
   "cell_type": "code",
   "execution_count": 90,
   "metadata": {
    "tags": []
   },
   "outputs": [
    {
     "name": "stdout",
     "output_type": "stream",
     "text": [
      "2000.0\n",
      "1200.0\n",
      "{\n",
      "    \"type\": \"Dirichlet\",\n",
      "    \"value\": 2000.0\n",
      "}\n",
      "2\n",
      "True\n",
      "True\n",
      "False\n",
      "False\n"
     ]
    }
   ],
   "source": [
    "bc_1 = riversim.BoundaryCondition()\n",
    "bc_1.value = 1000\n",
    "bc_1.type = riversim.t_boundary.DIRICHLET\n",
    "\n",
    "bc_2 = riversim.BoundaryCondition()\n",
    "bc_2.value = 300\n",
    "bc_2.type = riversim.t_boundary.NEUMAN\n",
    "\n",
    "bcs[1] = bc_1\n",
    "bcs[2] = bc_2\n",
    "\n",
    "a = bcs[1]\n",
    "b = bcs[2]\n",
    "\n",
    "a.value = 2*a.value\n",
    "b.value = 4*b.value\n",
    "\n",
    "bcs[1] = a\n",
    "bcs[2] = b\n",
    "\n",
    "print(bcs[1].value)\n",
    "print(bcs[2].value)\n",
    "\n",
    "\n",
    "\n",
    "print(bcs[1])\n",
    "\n",
    "print(len(bcs))\n",
    "\n",
    "print(1 in bcs)\n",
    "print(2 in bcs)\n",
    "print(3 in bcs)\n",
    "\n",
    "del bcs[1]\n",
    "print(1 in bcs)"
   ]
  },
  {
   "cell_type": "markdown",
   "metadata": {},
   "source": [
    "#### Get method"
   ]
  },
  {
   "cell_type": "code",
   "execution_count": 91,
   "metadata": {},
   "outputs": [
    {
     "name": "stdout",
     "output_type": "stream",
     "text": [
      "{\n",
      "    \"type\": \"Neuman\",\n",
      "    \"value\": 1.0\n",
      "}\n"
     ]
    }
   ],
   "source": [
    "bcs = riversim.BoundaryConditions()\n",
    "\n",
    "bc_1 = riversim.BoundaryCondition()\n",
    "bc_1.value = 1;\n",
    "bc_1.type = riversim.t_boundary.NEUMAN\n",
    "\n",
    "bc_2 = riversim.BoundaryCondition()\n",
    "bc_2.value = 2;\n",
    "bc_2.type = riversim.t_boundary.DIRICHLET\n",
    "\n",
    "bc_3 = riversim.BoundaryCondition()\n",
    "bc_3.value = 3;\n",
    "bc_3.type = riversim.t_boundary.NEUMAN\n",
    "\n",
    "bc_4 = riversim.BoundaryCondition()\n",
    "bc_4.value = 4;\n",
    "bc_4.type = riversim.t_boundary.DIRICHLET\n",
    "\n",
    "bcs[1] = bc_1\n",
    "bcs[2] = bc_2\n",
    "bcs[3] = bc_3\n",
    "bcs[4] = bc_4\n",
    "\n",
    "bcs_neuman = bcs.Get(riversim.t_boundary.NEUMAN)\n",
    "print(bcs_neuman[1])"
   ]
  },
  {
   "cell_type": "code",
   "execution_count": 92,
   "metadata": {
    "tags": []
   },
   "outputs": [
    {
     "name": "stdout",
     "output_type": "stream",
     "text": [
      "NEUMAN\n",
      "NEUMAN\n",
      "2\n"
     ]
    }
   ],
   "source": [
    "print(bcs_neuman[1].type)\n",
    "print(bcs_neuman[3].type)\n",
    "print(len(bcs_neuman))"
   ]
  },
  {
   "cell_type": "markdown",
   "metadata": {},
   "source": [
    "### `t_source_coord` or porting `Pair`"
   ]
  },
  {
   "cell_type": "code",
   "execution_count": 3,
   "metadata": {},
   "outputs": [
    {
     "name": "stdout",
     "output_type": "stream",
     "text": [
      "[\n",
      "    0,\n",
      "    0\n",
      "]\n",
      "[\n",
      "    1,\n",
      "    1\n",
      "]\n"
     ]
    }
   ],
   "source": [
    "source_coord = riversim.t_source_coord()\n",
    "print(source_coord)\n",
    "source_coord_1 = riversim.t_source_coord(1, 1)\n",
    "print(source_coord_1)"
   ]
  },
  {
   "cell_type": "code",
   "execution_count": 94,
   "metadata": {},
   "outputs": [],
   "source": [
    "source_coord.boundary_id = 1"
   ]
  },
  {
   "cell_type": "code",
   "execution_count": 95,
   "metadata": {},
   "outputs": [],
   "source": [
    "source_coord.vert_pos = 2"
   ]
  },
  {
   "cell_type": "code",
   "execution_count": 96,
   "metadata": {
    "tags": []
   },
   "outputs": [
    {
     "name": "stdout",
     "output_type": "stream",
     "text": [
      "1\n",
      "2\n",
      "[\n",
      "    1,\n",
      "    2\n",
      "]\n"
     ]
    }
   ],
   "source": [
    "print(source_coord.boundary_id)\n",
    "print(source_coord.vert_pos)\n",
    "print(source_coord)"
   ]
  },
  {
   "cell_type": "markdown",
   "metadata": {},
   "source": [
    "### `t_sources_ids` or `vector` wrapper"
   ]
  },
  {
   "cell_type": "code",
   "execution_count": 97,
   "metadata": {},
   "outputs": [
    {
     "name": "stdout",
     "output_type": "stream",
     "text": [
      "[]\n"
     ]
    }
   ],
   "source": [
    "sources_ids = riversim.t_sources_ids()\n",
    "print(sources_ids)"
   ]
  },
  {
   "cell_type": "code",
   "execution_count": 98,
   "metadata": {},
   "outputs": [],
   "source": [
    "sources_ids.append(1)\n",
    "sources_ids.append(2)\n",
    "sources_ids.append(3)"
   ]
  },
  {
   "cell_type": "code",
   "execution_count": 99,
   "metadata": {
    "tags": []
   },
   "outputs": [
    {
     "name": "stdout",
     "output_type": "stream",
     "text": [
      "1\n",
      "2\n",
      "3\n",
      "3\n",
      "2\n",
      "[\n",
      "    1,\n",
      "    2,\n",
      "    3\n",
      "]\n"
     ]
    }
   ],
   "source": [
    "print(sources_ids[0])\n",
    "print(sources_ids[1])\n",
    "print(sources_ids[2])\n",
    "print(sources_ids[-1])\n",
    "print(sources_ids[-2])\n",
    "print(sources_ids)"
   ]
  },
  {
   "cell_type": "code",
   "execution_count": 100,
   "metadata": {},
   "outputs": [
    {
     "data": {
      "text/plain": [
       "3"
      ]
     },
     "execution_count": 100,
     "metadata": {},
     "output_type": "execute_result"
    }
   ],
   "source": [
    "len(sources_ids)"
   ]
  },
  {
   "cell_type": "code",
   "execution_count": 101,
   "metadata": {},
   "outputs": [],
   "source": [
    "del sources_ids[1]"
   ]
  },
  {
   "cell_type": "code",
   "execution_count": 102,
   "metadata": {},
   "outputs": [
    {
     "name": "stdout",
     "output_type": "stream",
     "text": [
      "[\n",
      "    1,\n",
      "    3\n",
      "]\n"
     ]
    }
   ],
   "source": [
    "len(sources_ids)\n",
    "print(sources_ids)"
   ]
  },
  {
   "cell_type": "markdown",
   "metadata": {},
   "source": [
    "### `t_Sources`"
   ]
  },
  {
   "cell_type": "code",
   "execution_count": 103,
   "metadata": {},
   "outputs": [
    {
     "name": "stdout",
     "output_type": "stream",
     "text": [
      "[]\n",
      "0\n"
     ]
    }
   ],
   "source": [
    "sources = riversim.t_Sources()\n",
    "print(sources)\n",
    "print(len(sources))"
   ]
  },
  {
   "cell_type": "code",
   "execution_count": 104,
   "metadata": {},
   "outputs": [],
   "source": [
    "source_coord_1 = riversim.t_source_coord()\n",
    "source_coord_1.boundary_id = 1\n",
    "source_coord_1.vert_pos = 3\n",
    "\n",
    "source_coord_2 = riversim.t_source_coord()\n",
    "source_coord_2.boundary_id = 1\n",
    "source_coord_2.vert_pos = 4\n",
    "\n",
    "source_coord_3 = riversim.t_source_coord()\n",
    "source_coord_3.boundary_id = 2\n",
    "source_coord_3.vert_pos = 2\n",
    "\n",
    "sources[1] = source_coord_1\n",
    "sources[2] = source_coord_2\n",
    "sources[3] = source_coord_3"
   ]
  },
  {
   "cell_type": "code",
   "execution_count": 105,
   "metadata": {},
   "outputs": [
    {
     "name": "stdout",
     "output_type": "stream",
     "text": [
      "[\n",
      "    [\n",
      "        1,\n",
      "        [\n",
      "            1,\n",
      "            3\n",
      "        ]\n",
      "    ],\n",
      "    [\n",
      "        2,\n",
      "        [\n",
      "            1,\n",
      "            4\n",
      "        ]\n",
      "    ],\n",
      "    [\n",
      "        3,\n",
      "        [\n",
      "            2,\n",
      "            2\n",
      "        ]\n",
      "    ]\n",
      "]\n"
     ]
    }
   ],
   "source": [
    "len(sources)\n",
    "print(sources)"
   ]
  },
  {
   "cell_type": "code",
   "execution_count": 106,
   "metadata": {},
   "outputs": [
    {
     "data": {
      "text/plain": [
       "True"
      ]
     },
     "execution_count": 106,
     "metadata": {},
     "output_type": "execute_result"
    }
   ],
   "source": [
    "1 in sources"
   ]
  },
  {
   "cell_type": "markdown",
   "metadata": {},
   "source": [
    "### `Sources`"
   ]
  },
  {
   "cell_type": "code",
   "execution_count": 107,
   "metadata": {},
   "outputs": [
    {
     "name": "stdout",
     "output_type": "stream",
     "text": [
      "{\n",
      "    \"sources\": [\n",
      "        [\n",
      "            1,\n",
      "            [\n",
      "                1,\n",
      "                3\n",
      "            ]\n",
      "        ],\n",
      "        [\n",
      "            2,\n",
      "            [\n",
      "                1,\n",
      "                4\n",
      "            ]\n",
      "        ],\n",
      "        [\n",
      "            3,\n",
      "            [\n",
      "                2,\n",
      "                2\n",
      "            ]\n",
      "        ]\n",
      "    ]\n",
      "}\n"
     ]
    }
   ],
   "source": [
    "source_coord_1 = riversim.t_source_coord()\n",
    "source_coord_1.boundary_id = 1\n",
    "source_coord_1.vert_pos = 3\n",
    "\n",
    "source_coord_2 = riversim.t_source_coord()\n",
    "source_coord_2.boundary_id = 1\n",
    "source_coord_2.vert_pos = 4\n",
    "\n",
    "source_coord_3 = riversim.t_source_coord()\n",
    "source_coord_3.boundary_id = 2\n",
    "source_coord_3.vert_pos = 2\n",
    "\n",
    "sources = riversim.Sources()\n",
    "sources[1] = source_coord_1\n",
    "sources[2] = source_coord_2\n",
    "sources[3] = source_coord_3\n",
    "print(sources)"
   ]
  },
  {
   "cell_type": "code",
   "execution_count": 108,
   "metadata": {},
   "outputs": [
    {
     "name": "stdout",
     "output_type": "stream",
     "text": [
      "[\n",
      "    1,\n",
      "    2,\n",
      "    3\n",
      "]\n"
     ]
    }
   ],
   "source": [
    "sources_ids = sources.getSourcesIds()\n",
    "print(sources_ids)"
   ]
  },
  {
   "cell_type": "code",
   "execution_count": 109,
   "metadata": {},
   "outputs": [
    {
     "data": {
      "text/plain": [
       "3"
      ]
     },
     "execution_count": 109,
     "metadata": {},
     "output_type": "execute_result"
    }
   ],
   "source": [
    "sources_ids[2]"
   ]
  },
  {
   "cell_type": "markdown",
   "metadata": {},
   "source": [
    "### `Line`"
   ]
  },
  {
   "cell_type": "code",
   "execution_count": 110,
   "metadata": {
    "tags": []
   },
   "outputs": [
    {
     "name": "stdout",
     "output_type": "stream",
     "text": [
      "{\n",
      "    \"boundary_id\": 10,\n",
      "    \"p1\": 1,\n",
      "    \"p2\": 2\n",
      "}\n",
      "True\n",
      "10\n",
      "1\n",
      "2\n",
      "3\n",
      "{\n",
      "    \"boundary_id\": 3,\n",
      "    \"p1\": 1,\n",
      "    \"p2\": 2\n",
      "}\n"
     ]
    }
   ],
   "source": [
    "line1 = riversim.Line()\n",
    "\n",
    "line1.p1 = 1\n",
    "line1.p2 = 2\n",
    "line1.boundary_id = 10\n",
    "print(line1)\n",
    "line2 = riversim.Line(line1)\n",
    "\n",
    "\n",
    "print(line1 == line2)\n",
    "print(line2.boundary_id)\n",
    "\n",
    "line3 = riversim.Line(1, 2, 3)\n",
    "print(line3.p1)\n",
    "print(line3.p2)\n",
    "print(line3.boundary_id)\n",
    "print(line3)"
   ]
  },
  {
   "cell_type": "markdown",
   "metadata": {},
   "source": [
    "### `t_PointList`"
   ]
  },
  {
   "cell_type": "code",
   "execution_count": 111,
   "metadata": {
    "tags": []
   },
   "outputs": [
    {
     "name": "stdout",
     "output_type": "stream",
     "text": [
      "3\n",
      "[\n",
      "    {\n",
      "        \"x\": 1.0,\n",
      "        \"y\": 1.0\n",
      "    },\n",
      "    {\n",
      "        \"x\": 2.0,\n",
      "        \"y\": 2.0\n",
      "    },\n",
      "    {\n",
      "        \"x\": 3.0,\n",
      "        \"y\": 3.0\n",
      "    }\n",
      "]\n"
     ]
    }
   ],
   "source": [
    "point_list = riversim.t_PointList()\n",
    "point_list.append(riversim.Point(1, 1))\n",
    "point_list.append(riversim.Point(2, 2))\n",
    "point_list.append(riversim.Point(3, 3))\n",
    "\n",
    "print(len(point_list))\n",
    "print(point_list)"
   ]
  },
  {
   "cell_type": "markdown",
   "metadata": {},
   "source": [
    "### `t_LineList`"
   ]
  },
  {
   "cell_type": "code",
   "execution_count": 112,
   "metadata": {
    "tags": []
   },
   "outputs": [
    {
     "name": "stdout",
     "output_type": "stream",
     "text": [
      "3\n",
      "[\n",
      "    {\n",
      "        \"boundary_id\": 1,\n",
      "        \"p1\": 1,\n",
      "        \"p2\": 1\n",
      "    },\n",
      "    {\n",
      "        \"boundary_id\": 2,\n",
      "        \"p1\": 2,\n",
      "        \"p2\": 2\n",
      "    },\n",
      "    {\n",
      "        \"boundary_id\": 3,\n",
      "        \"p1\": 3,\n",
      "        \"p2\": 3\n",
      "    }\n",
      "]\n"
     ]
    }
   ],
   "source": [
    "line_list = riversim.t_LineList()\n",
    "line_list.append(riversim.Line(1, 1, 1))\n",
    "line_list.append(riversim.Line(2, 2, 2))\n",
    "line_list.append(riversim.Line(3, 3, 3))\n",
    "\n",
    "print(len(line_list))\n",
    "print(line_list)"
   ]
  },
  {
   "cell_type": "markdown",
   "metadata": {},
   "source": [
    "### `Boundary`"
   ]
  },
  {
   "cell_type": "code",
   "execution_count": 113,
   "metadata": {},
   "outputs": [
    {
     "name": "stdout",
     "output_type": "stream",
     "text": [
      "{\n",
      "    \"lines\": [\n",
      "        {\n",
      "            \"boundary_id\": 1,\n",
      "            \"p1\": 3,\n",
      "            \"p2\": 4\n",
      "        },\n",
      "        {\n",
      "            \"boundary_id\": 1,\n",
      "            \"p1\": 2,\n",
      "            \"p2\": 3\n",
      "        },\n",
      "        {\n",
      "            \"boundary_id\": 1,\n",
      "            \"p1\": 4,\n",
      "            \"p2\": 5\n",
      "        },\n",
      "        {\n",
      "            \"boundary_id\": 1,\n",
      "            \"p1\": 5,\n",
      "            \"p2\": 6\n",
      "        },\n",
      "        {\n",
      "            \"boundary_id\": 1,\n",
      "            \"p1\": 6,\n",
      "            \"p2\": 7\n",
      "        },\n",
      "        {\n",
      "            \"boundary_id\": 1,\n",
      "            \"p1\": 7,\n",
      "            \"p2\": 1\n",
      "        },\n",
      "        {\n",
      "            \"boundary_id\": 1,\n",
      "            \"p1\": 8,\n",
      "            \"p2\": 9\n",
      "        }\n",
      "    ],\n",
      "    \"vertices\": [\n",
      "        {\n",
      "            \"x\": 0.0,\n",
      "            \"y\": 0.0\n",
      "        },\n",
      "        {\n",
      "            \"x\": 0.2,\n",
      "            \"y\": 0.0\n",
      "        },\n",
      "        {\n",
      "            \"x\": 0.25,\n",
      "            \"y\": 0.1\n",
      "        },\n",
      "        {\n",
      "            \"x\": 0.3,\n",
      "            \"y\": 0.0\n",
      "        },\n",
      "        {\n",
      "            \"x\": 1.0,\n",
      "            \"y\": 0.0\n",
      "        },\n",
      "        {\n",
      "            \"x\": 1.0,\n",
      "            \"y\": 1.0\n",
      "        },\n",
      "        {\n",
      "            \"x\": 0.0,\n",
      "            \"y\": 1.0\n",
      "        },\n",
      "        {\n",
      "            \"x\": 0.2,\n",
      "            \"y\": 0.0\n",
      "        },\n",
      "        {\n",
      "            \"x\": 0.25,\n",
      "            \"y\": 0.1\n",
      "        },\n",
      "        {\n",
      "            \"x\": 0.3,\n",
      "            \"y\": 0.0\n",
      "        }\n",
      "    ]\n",
      "}\n"
     ]
    }
   ],
   "source": [
    "point_list = riversim.t_PointList()\n",
    "point_list.append(riversim.Point(0, 0))\n",
    "point_list.append(riversim.Point(0.25, 0))\n",
    "point_list.append(riversim.Point(1, 0))\n",
    "point_list.append(riversim.Point(1, 1))\n",
    "point_list.append(riversim.Point(0, 1))\n",
    "\n",
    "line_list = riversim.t_LineList()\n",
    "line_list.append(riversim.Line(1, 2, 1))\n",
    "line_list.append(riversim.Line(2, 3, 1))\n",
    "line_list.append(riversim.Line(3, 4, 1))\n",
    "line_list.append(riversim.Line(4, 5, 1))\n",
    "line_list.append(riversim.Line(5, 1, 1))\n",
    "\n",
    "simple_boundary = riversim.Boundary()\n",
    "simple_boundary.vertices = point_list\n",
    "simple_boundary.lines = line_list\n",
    "\n",
    "point_in_list = riversim.t_PointList()\n",
    "point_in_list.append(riversim.Point(0.2, 0))\n",
    "point_in_list.append(riversim.Point(0.25, 0.1))\n",
    "point_in_list.append(riversim.Point(0.3, 0))\n",
    "\n",
    "line_in_list = riversim.t_LineList()\n",
    "line_in_list.append(riversim.Line(1, 2, 1))\n",
    "line_list.append(riversim.Line(2, 3, 1))\n",
    "\n",
    "in_boundary = riversim.Boundary()\n",
    "in_boundary.vertices = point_in_list\n",
    "in_boundary.lines = line_in_list\n",
    "\n",
    "simple_boundary.replaceElement(1, in_boundary)\n",
    "\n",
    "#this will produce some strange boundary, but juss let test append function\n",
    "simple_boundary.append(in_boundary)\n",
    "print(simple_boundary)"
   ]
  },
  {
   "cell_type": "markdown",
   "metadata": {},
   "source": [
    "### `t_Region`"
   ]
  },
  {
   "cell_type": "code",
   "execution_count": 114,
   "metadata": {},
   "outputs": [],
   "source": [
    "boundaries = riversim.t_Region()\n",
    "\n",
    "boundaries[1] = simple_boundary\n",
    "boundaries[2] = in_boundary"
   ]
  },
  {
   "cell_type": "markdown",
   "metadata": {},
   "source": [
    "### `t_branch_source`"
   ]
  },
  {
   "cell_type": "code",
   "execution_count": 115,
   "metadata": {},
   "outputs": [
    {
     "name": "stdout",
     "output_type": "stream",
     "text": [
      "[\n",
      "    {\n",
      "        \"x\": 0.0,\n",
      "        \"y\": 0.0\n",
      "    },\n",
      "    0.0\n",
      "]\n"
     ]
    }
   ],
   "source": [
    "branch_source = riversim.t_branch_source()\n",
    "print(branch_source)\n",
    "\n",
    "branch_source.point = riversim.Point(0, 0)\n",
    "branch_source.angle = 0.01"
   ]
  },
  {
   "cell_type": "markdown",
   "metadata": {},
   "source": [
    "### `t_rivers_interface`"
   ]
  },
  {
   "cell_type": "code",
   "execution_count": 116,
   "metadata": {},
   "outputs": [
    {
     "name": "stdout",
     "output_type": "stream",
     "text": [
      "[]\n",
      "{\n",
      "    \"x\": 0.0,\n",
      "    \"y\": 0.0\n",
      "}\n",
      "0.0\n",
      "[\n",
      "    [\n",
      "        1,\n",
      "        [\n",
      "            {\n",
      "                \"x\": 0.0,\n",
      "                \"y\": 0.0\n",
      "            },\n",
      "            0.0\n",
      "        ]\n",
      "    ]\n",
      "]\n"
     ]
    }
   ],
   "source": [
    "i = riversim.t_rivers_interface()\n",
    "print(i)\n",
    "i[1] = riversim.t_branch_source()\n",
    "print(i[1].point)\n",
    "print(i[1].angle)\n",
    "print(i)"
   ]
  },
  {
   "cell_type": "markdown",
   "metadata": {},
   "source": [
    "### `Region`"
   ]
  },
  {
   "cell_type": "code",
   "execution_count": 117,
   "metadata": {
    "tags": []
   },
   "outputs": [
    {
     "name": "stdout",
     "output_type": "stream",
     "text": [
      "3\n",
      "1\n",
      "1\n",
      "2\n",
      "1.5707963267948966\n",
      "0.7853981633974483\n",
      "3.9269908169872414\n"
     ]
    }
   ],
   "source": [
    "boundaries = riversim.Region()\n",
    "\n",
    "sources = boundaries.makeRectangularWithHole(1, 1, 0.25)\n",
    "print(len(sources))\n",
    "print(sources[1].boundary_id)\n",
    "print(sources[1].vert_pos)\n",
    "boundaries.check()\n",
    "print(len(boundaries.getHolesList()))\n",
    "tree_int = boundaries.getSourcesIdsPointsAndAngles(sources)\n",
    "print(tree_int[1].angle)\n",
    "print(tree_int[2].angle)\n",
    "print(tree_int[3].angle)"
   ]
  },
  {
   "cell_type": "code",
   "execution_count": 118,
   "metadata": {
    "tags": []
   },
   "outputs": [
    {
     "name": "stdout",
     "output_type": "stream",
     "text": [
      "3\n",
      "3\n"
     ]
    }
   ],
   "source": [
    "a = sources[3]\n",
    "print(a.vert_pos)\n",
    "print(a.boundary_id)"
   ]
  },
  {
   "cell_type": "markdown",
   "metadata": {},
   "source": [
    "## Tethex"
   ]
  },
  {
   "cell_type": "code",
   "execution_count": 119,
   "metadata": {},
   "outputs": [
    {
     "data": {
      "text/plain": [
       "<riversim.t_Vector_of_TethexPoint at 0x7f4e86b75b30>"
      ]
     },
     "execution_count": 119,
     "metadata": {},
     "output_type": "execute_result"
    }
   ],
   "source": [
    "riversim.t_Vector_of_TethexPoint()"
   ]
  },
  {
   "cell_type": "code",
   "execution_count": 120,
   "metadata": {},
   "outputs": [
    {
     "name": "stdout",
     "output_type": "stream",
     "text": [
      "0\n",
      "0\n",
      "0\n"
     ]
    }
   ],
   "source": [
    "a = riversim.TethexMesh()\n",
    "print(a.getNVertices())\n",
    "print(a.getNHoles())\n",
    "print(a.getNPoints())"
   ]
  },
  {
   "cell_type": "markdown",
   "metadata": {},
   "source": [
    "## Rivers"
   ]
  },
  {
   "cell_type": "markdown",
   "metadata": {},
   "source": [
    "### Branch"
   ]
  },
  {
   "cell_type": "code",
   "execution_count": 121,
   "metadata": {
    "tags": []
   },
   "outputs": [
    {
     "name": "stdout",
     "output_type": "stream",
     "text": [
      "1.7853981633974483\n",
      "0.0\n",
      "5.414213562373095\n",
      "False\n",
      "{\n",
      "    \"lines\": [],\n",
      "    \"source_angle\": 0.0,\n",
      "    \"vertices\": [\n",
      "        {\n",
      "            \"x\": 0.0,\n",
      "            \"y\": 1.0\n",
      "        }\n",
      "    ]\n",
      "}\n",
      "{\n",
      "    \"lines\": [],\n",
      "    \"source_angle\": 0.0,\n",
      "    \"vertices\": [\n",
      "        {\n",
      "            \"x\": 0.0,\n",
      "            \"y\": 0.0\n",
      "        }\n",
      "    ]\n",
      "}\n"
     ]
    }
   ],
   "source": [
    "branch = riversim.Branch(riversim.Point(0, 0), 0)\n",
    "branch1 = riversim.Branch(riversim.Point(0, 0), 0)\n",
    "branch.vertices[0]\n",
    "len(branch.vertices)\n",
    "branch.addAbsolutePoint(riversim.Point(1, 1), 0)\n",
    "branch.addAbsolutePoint(riversim.Polar(1, 1), 0).vertices[0].y = 1\n",
    "branch.addAbsolutePoint(riversim.Polar(1, 1), 0).vertices[0].y\n",
    "branch.addPoint(riversim.Point(1, 1), 0)\n",
    "branch.addPoint(riversim.Polar(1, 1), 0)\n",
    "branch.tipPoint()\n",
    "branch.tipVector()\n",
    "angle = branch.tipAngle()\n",
    "print(angle)\n",
    "angle = branch.getSourceAngle()\n",
    "print(angle)\n",
    "print(branch.lenght())\n",
    "branch.removeTipPoint()\n",
    "branch.shrink(100)\n",
    "len(branch.vertices)\n",
    "print(branch == branch1)\n",
    "print(branch)\n",
    "print(branch1)"
   ]
  },
  {
   "cell_type": "code",
   "execution_count": 122,
   "metadata": {},
   "outputs": [
    {
     "name": "stdout",
     "output_type": "stream",
     "text": [
      "[\n",
      "    0,\n",
      "    0\n",
      "]\n"
     ]
    }
   ],
   "source": [
    "p = riversim.t_branch_id_pair()\n",
    "p.left\n",
    "p.right\n",
    "print(p)"
   ]
  },
  {
   "cell_type": "code",
   "execution_count": 123,
   "metadata": {},
   "outputs": [
    {
     "name": "stdout",
     "output_type": "stream",
     "text": [
      "{\n",
      "    \"region\": [\n",
      "        [\n",
      "            1,\n",
      "            {\n",
      "                \"lines\": [\n",
      "                    {\n",
      "                        \"boundary_id\": 1,\n",
      "                        \"p1\": 0,\n",
      "                        \"p2\": 1\n",
      "                    },\n",
      "                    {\n",
      "                        \"boundary_id\": 2,\n",
      "                        \"p1\": 1,\n",
      "                        \"p2\": 2\n",
      "                    },\n",
      "                    {\n",
      "                        \"boundary_id\": 3,\n",
      "                        \"p1\": 2,\n",
      "                        \"p2\": 3\n",
      "                    },\n",
      "                    {\n",
      "                        \"boundary_id\": 4,\n",
      "                        \"p1\": 3,\n",
      "                        \"p2\": 4\n",
      "                    },\n",
      "                    {\n",
      "                        \"boundary_id\": 5,\n",
      "                        \"p1\": 4,\n",
      "                        \"p2\": 0\n",
      "                    }\n",
      "                ],\n",
      "                \"vertices\": [\n",
      "                    {\n",
      "                        \"x\": 0.0,\n",
      "                        \"y\": 0.0\n",
      "                    },\n",
      "                    {\n",
      "                        \"x\": 0.25,\n",
      "                        \"y\": 0.0\n",
      "                    },\n",
      "                    {\n",
      "                        \"x\": 1.0,\n",
      "                        \"y\": 0.0\n",
      "                    },\n",
      "                    {\n",
      "                        \"x\": 1.0,\n",
      "                        \"y\": 1.0\n",
      "                    },\n",
      "                    {\n",
      "                        \"x\": 0.0,\n",
      "                        \"y\": 1.0\n",
      "                    }\n",
      "                ]\n",
      "            }\n",
      "        ],\n",
      "        [\n",
      "            2,\n",
      "            {\n",
      "                \"lines\": [\n",
      "                    {\n",
      "                        \"boundary_id\": 6,\n",
      "                        \"p1\": 0,\n",
      "                        \"p2\": 1\n",
      "                    },\n",
      "                    {\n",
      "                        \"boundary_id\": 7,\n",
      "                        \"p1\": 1,\n",
      "                        \"p2\": 2\n",
      "                    },\n",
      "                    {\n",
      "                        \"boundary_id\": 8,\n",
      "                        \"p1\": 2,\n",
      "                        \"p2\": 3\n",
      "                    },\n",
      "                    {\n",
      "                        \"boundary_id\": 9,\n",
      "                        \"p1\": 3,\n",
      "                        \"p2\": 0\n",
      "                    }\n",
      "                ],\n",
      "                \"vertices\": [\n",
      "                    {\n",
      "                        \"x\": 0.25,\n",
      "                        \"y\": 0.75\n",
      "                    },\n",
      "                    {\n",
      "                        \"x\": 0.75,\n",
      "                        \"y\": 0.75\n",
      "                    },\n",
      "                    {\n",
      "                        \"x\": 0.75,\n",
      "                        \"y\": 0.25\n",
      "                    },\n",
      "                    {\n",
      "                        \"x\": 0.25,\n",
      "                        \"y\": 0.25\n",
      "                    }\n",
      "                ]\n",
      "            }\n",
      "        ],\n",
      "        [\n",
      "            3,\n",
      "            {\n",
      "                \"lines\": [\n",
      "                    {\n",
      "                        \"boundary_id\": 10,\n",
      "                        \"p1\": 0,\n",
      "                        \"p2\": 1\n",
      "                    },\n",
      "                    {\n",
      "                        \"boundary_id\": 11,\n",
      "                        \"p1\": 1,\n",
      "                        \"p2\": 2\n",
      "                    },\n",
      "                    {\n",
      "                        \"boundary_id\": 12,\n",
      "                        \"p1\": 2,\n",
      "                        \"p2\": 3\n",
      "                    },\n",
      "                    {\n",
      "                        \"boundary_id\": 13,\n",
      "                        \"p1\": 3,\n",
      "                        \"p2\": 0\n",
      "                    }\n",
      "                ],\n",
      "                \"vertices\": [\n",
      "                    {\n",
      "                        \"x\": 0.8,\n",
      "                        \"y\": 0.9\n",
      "                    },\n",
      "                    {\n",
      "                        \"x\": 0.9,\n",
      "                        \"y\": 0.9\n",
      "                    },\n",
      "                    {\n",
      "                        \"x\": 0.9,\n",
      "                        \"y\": 0.8\n",
      "                    },\n",
      "                    {\n",
      "                        \"x\": 0.8,\n",
      "                        \"y\": 0.8\n",
      "                    }\n",
      "                ]\n",
      "            }\n",
      "        ]\n",
      "    ]\n",
      "}\n"
     ]
    }
   ],
   "source": [
    "boundaries = riversim.Region()\n",
    "\n",
    "sources = boundaries.makeRectangularWithHole(1, 1, 0.25)\n",
    "\n",
    "tree_interface = boundaries.getSourcesIdsPointsAndAngles(sources)\n",
    "\n",
    "tree = riversim.Rivers()\n",
    "tree.initialize(tree_interface)\n",
    "\n",
    "ids = tree.tipBranchesIds()\n",
    "len(ids)\n",
    "print(boundaries)"
   ]
  },
  {
   "cell_type": "markdown",
   "metadata": {},
   "source": [
    "### RiversBoundary and BoundaryGenerator"
   ]
  },
  {
   "cell_type": "code",
   "execution_count": 124,
   "metadata": {},
   "outputs": [
    {
     "name": "stdout",
     "output_type": "stream",
     "text": [
      "{\n",
      "    \"lines\": [],\n",
      "    \"vertices\": [\n",
      "        {\n",
      "            \"x\": 0.25,\n",
      "            \"y\": 0.0\n",
      "        }\n",
      "    ]\n",
      "}\n",
      "{\n",
      "    \"lines\": [\n",
      "        {\n",
      "            \"boundary_id\": 1,\n",
      "            \"p1\": 0,\n",
      "            \"p2\": 1\n",
      "        },\n",
      "        {\n",
      "            \"boundary_id\": 2,\n",
      "            \"p1\": 1,\n",
      "            \"p2\": 2\n",
      "        },\n",
      "        {\n",
      "            \"boundary_id\": 3,\n",
      "            \"p1\": 2,\n",
      "            \"p2\": 3\n",
      "        },\n",
      "        {\n",
      "            \"boundary_id\": 4,\n",
      "            \"p1\": 3,\n",
      "            \"p2\": 4\n",
      "        },\n",
      "        {\n",
      "            \"boundary_id\": 5,\n",
      "            \"p1\": 4,\n",
      "            \"p2\": 0\n",
      "        },\n",
      "        {\n",
      "            \"boundary_id\": 6,\n",
      "            \"p1\": 5,\n",
      "            \"p2\": 6\n",
      "        },\n",
      "        {\n",
      "            \"boundary_id\": 7,\n",
      "            \"p1\": 6,\n",
      "            \"p2\": 7\n",
      "        },\n",
      "        {\n",
      "            \"boundary_id\": 8,\n",
      "            \"p1\": 7,\n",
      "            \"p2\": 8\n",
      "        },\n",
      "        {\n",
      "            \"boundary_id\": 9,\n",
      "            \"p1\": 8,\n",
      "            \"p2\": 5\n",
      "        },\n",
      "        {\n",
      "            \"boundary_id\": 10,\n",
      "            \"p1\": 9,\n",
      "            \"p2\": 10\n",
      "        },\n",
      "        {\n",
      "            \"boundary_id\": 11,\n",
      "            \"p1\": 10,\n",
      "            \"p2\": 11\n",
      "        },\n",
      "        {\n",
      "            \"boundary_id\": 12,\n",
      "            \"p1\": 11,\n",
      "            \"p2\": 12\n",
      "        },\n",
      "        {\n",
      "            \"boundary_id\": 13,\n",
      "            \"p1\": 12,\n",
      "            \"p2\": 9\n",
      "        }\n",
      "    ],\n",
      "    \"vertices\": [\n",
      "        {\n",
      "            \"x\": 0.0,\n",
      "            \"y\": 0.0\n",
      "        },\n",
      "        {\n",
      "            \"x\": 0.25,\n",
      "            \"y\": 0.0\n",
      "        },\n",
      "        {\n",
      "            \"x\": 1.0,\n",
      "            \"y\": 0.0\n",
      "        },\n",
      "        {\n",
      "            \"x\": 1.0,\n",
      "            \"y\": 1.0\n",
      "        },\n",
      "        {\n",
      "            \"x\": 0.0,\n",
      "            \"y\": 1.0\n",
      "        },\n",
      "        {\n",
      "            \"x\": 0.25,\n",
      "            \"y\": 0.75\n",
      "        },\n",
      "        {\n",
      "            \"x\": 0.75,\n",
      "            \"y\": 0.75\n",
      "        },\n",
      "        {\n",
      "            \"x\": 0.75,\n",
      "            \"y\": 0.25\n",
      "        },\n",
      "        {\n",
      "            \"x\": 0.25,\n",
      "            \"y\": 0.25\n",
      "        },\n",
      "        {\n",
      "            \"x\": 0.8,\n",
      "            \"y\": 0.9\n",
      "        },\n",
      "        {\n",
      "            \"x\": 0.9,\n",
      "            \"y\": 0.9\n",
      "        },\n",
      "        {\n",
      "            \"x\": 0.9,\n",
      "            \"y\": 0.8\n",
      "        },\n",
      "        {\n",
      "            \"x\": 0.8,\n",
      "            \"y\": 0.8\n",
      "        }\n",
      "    ]\n",
      "}\n"
     ]
    }
   ],
   "source": [
    "boundary = riversim.Boundary()\n",
    "region_params = riversim.RegionParams()\n",
    "riversim.RiversBoundary(boundary, tree, 1, region_params)\n",
    "print(boundary)\n",
    "\n",
    "boundary_2 = riversim.BoundaryGenerator(sources, boundaries, tree, region_params)\n",
    "print(boundary_2)"
   ]
  },
  {
   "cell_type": "markdown",
   "metadata": {},
   "source": [
    "## Mesh"
   ]
  },
  {
   "cell_type": "code",
   "execution_count": 125,
   "metadata": {},
   "outputs": [
    {
     "name": "stdout",
     "output_type": "stream",
     "text": [
      "{\n",
      "    \"exponant\": 1.0,\n",
      "    \"max_area\": 100000.0,\n",
      "    \"max_edge\": 1.0,\n",
      "    \"min_angle\": 32.0,\n",
      "    \"min_area\": 6e-07,\n",
      "    \"min_edge\": 8e-12,\n",
      "    \"ratio\": 2.3,\n",
      "    \"refinment_radius\": 0.005,\n",
      "    \"sigma\": 1.9\n",
      "}\n"
     ]
    }
   ],
   "source": [
    "print(riversim.MeshParams())"
   ]
  },
  {
   "cell_type": "code",
   "execution_count": 126,
   "metadata": {},
   "outputs": [
    {
     "name": "stdout",
     "output_type": "stream",
     "text": [
      "True\n"
     ]
    }
   ],
   "source": [
    "riversim.t_Vector_of_TethexPoint()\n",
    "\n",
    "p = riversim.TethexPoint(1, 2, 3, 4)\n",
    "p_copy = riversim.TethexPoint(p)\n",
    "print(p == p_copy)\n",
    "p.setCoord(1, 10)\n",
    "p.getCoord(1)\n",
    "\n",
    "model = riversim.Model()\n",
    "model.initializeDirichlet()\n",
    "model.number_of_steps = 1\n",
    "\n",
    "triangle = riversim.Triangle(model.mesh_params)\n",
    "\n",
    "solver = riversim.Solver(model.solver_params)\n",
    "\n",
    "#forward_river_simulation = riversim.ForwardRiverSimulation(model, triangle, solver)\n",
    "#forward_river_simulation.linearSolver()"
   ]
  },
  {
   "cell_type": "code",
   "execution_count": 127,
   "metadata": {},
   "outputs": [
    {
     "name": "stdout",
     "output_type": "stream",
     "text": [
      "Triangle options command : q20.000000DAp\n",
      "Detailed description: \n",
      "\n",
      "(p) read PSLG\n",
      "(q) quality min 20 degree\n",
      "                    value:20\n",
      "(D) all traingles will be Delaunay\n",
      "(A) assign additional attribute to each triangle which specifies segment which it belongs too\n",
      "\n"
     ]
    }
   ],
   "source": [
    "triangle = riversim.Triangle()\n",
    "\n",
    "print(triangle.printOptions(True))"
   ]
  },
  {
   "cell_type": "code",
   "execution_count": 128,
   "metadata": {},
   "outputs": [],
   "source": [
    "model = riversim.Model()\n",
    "model.initializeDirichlet()\n",
    "simple_boundary = riversim.BoundaryGenerator(model.sources, model.region, model.rivers, model.region_params)\n",
    "\n",
    "holes = riversim.t_PointList()\n",
    "\n",
    "mesh_params = riversim.MeshParams()\n",
    "triangle = riversim.Triangle(mesh_params)\n",
    "mesh = triangle.generate(simple_boundary, holes)\n",
    "mesh.write(\"test_quadrangular.msh\")\n",
    "\n"
   ]
  },
  {
   "cell_type": "markdown",
   "metadata": {},
   "source": [
    "## Solver"
   ]
  },
  {
   "cell_type": "code",
   "execution_count": 129,
   "metadata": {},
   "outputs": [
    {
     "name": "stdout",
     "output_type": "stream",
     "text": [
      "{\n",
      "    \"adaptive_refinment_steps\": 0,\n",
      "    \"field_value\": 1.0,\n",
      "    \"num_of_iterrations\": 6000,\n",
      "    \"quadrature_degree\": 3,\n",
      "    \"refinment_fraction\": 0.1,\n",
      "    \"renumbering_type\": 0,\n",
      "    \"static_refinment_steps\": 0,\n",
      "    \"tollerance\": 1e-12\n",
      "}\n"
     ]
    }
   ],
   "source": [
    "solver_params = riversim.SolverParams()\n",
    "print(solver_params)"
   ]
  },
  {
   "cell_type": "code",
   "execution_count": 130,
   "metadata": {},
   "outputs": [
    {
     "name": "stdout",
     "output_type": "stream",
     "text": [
      "{\n",
      "    \"eps\": 1e-10,\n",
      "    \"exponant\": 2.0,\n",
      "    \"integration_radius\": 0.03,\n",
      "    \"n_rho\": 8.0,\n",
      "    \"weigth_func_radius\": 0.01\n",
      "}\n"
     ]
    }
   ],
   "source": [
    "integ_params = riversim.IntegrationParams()\n",
    "print(integ_params)"
   ]
  },
  {
   "cell_type": "code",
   "execution_count": 131,
   "metadata": {},
   "outputs": [
    {
     "name": "stdout",
     "output_type": "stream",
     "text": [
      "[\n",
      "    0.0958222818845765,\n",
      "    -0.4321921627837689,\n",
      "    -1.2277433072156942\n",
      "]\n",
      "[\n",
      "    0.09589767328542241,\n",
      "    -0.4040761471121983,\n",
      "    -1.0209766354302583\n",
      "]\n",
      "[\n",
      "    0.09753568812753925,\n",
      "    -0.28810124676944476,\n",
      "    -0.4468282669881062\n",
      "]\n"
     ]
    }
   ],
   "source": [
    "model = riversim.Model()\n",
    "model.initializeDirichlet()\n",
    "model.rivers[1].addPoint(riversim.Polar(0.25, 0), model.region_params.river_boundary_id)\n",
    "boundary = riversim.BoundaryGenerator(model.sources,  model.region, model.rivers, model.region_params)\n",
    "holes = model.region.holes\n",
    "model.mesh_params.tip_points = model.rivers.tipPoints()\n",
    "triangle = riversim.Triangle(model.mesh_params)\n",
    "mesh = triangle.generate(boundary, holes)\n",
    "solver = riversim.Solver(model.solver_params)\n",
    "solver.setBoundaryConditions(model.boundary_conditions)\n",
    "solver.openMesh(mesh)\n",
    "solver.run()\n",
    "solver.outputResults(\"res.vtk\")\n",
    "tip = riversim.Point(model.dx, 0.25)\n",
    "alpha = 0.\n",
    "params = solver.integrate(model.integr_params, tip, alpha)\n",
    "params_new = solver.integrate_new(model.integr_params, tip, alpha)\n",
    "params_trap = solver.integrate_trap(model.integr_params, tip, alpha)\n",
    "print(params)\n",
    "print(params_new)\n",
    "print(params_trap)"
   ]
  },
  {
   "cell_type": "markdown",
   "metadata": {},
   "source": [
    "### Model"
   ]
  },
  {
   "cell_type": "code",
   "execution_count": 132,
   "metadata": {},
   "outputs": [
    {
     "data": {
      "text/plain": [
       "{\n",
       "    \"bifurcation_angle\": 0.6283185307179586,\n",
       "    \"bifurcation_min_dist\": 0.05,\n",
       "    \"bifurcation_threshold\": -0.1,\n",
       "    \"bifurcation_type\": 1,\n",
       "    \"boundary_conditions\": {\n",
       "        \"boundary_conditions\": []\n",
       "    },\n",
       "    \"ds\": 0.01,\n",
       "    \"dx\": 0.2,\n",
       "    \"eta\": 1.0,\n",
       "    \"growth_min_distance\": 0.005,\n",
       "    \"growth_threshold\": 0.0,\n",
       "    \"growth_type\": 1,\n",
       "    \"height\": 1.0,\n",
       "    \"integration_parameters\": {\n",
       "        \"eps\": 1e-10,\n",
       "        \"exponant\": 2.0,\n",
       "        \"integration_radius\": 0.03,\n",
       "        \"n_rho\": 8.0,\n",
       "        \"weigth_func_radius\": 0.01\n",
       "    },\n",
       "    \"mesh_parameters\": {\n",
       "        \"exponant\": 1.0,\n",
       "        \"max_area\": 100000.0,\n",
       "        \"max_edge\": 1.0,\n",
       "        \"min_angle\": 32.0,\n",
       "        \"min_area\": 6e-07,\n",
       "        \"min_edge\": 8e-12,\n",
       "        \"ratio\": 2.3,\n",
       "        \"refinment_radius\": 0.005,\n",
       "        \"sigma\": 1.9\n",
       "    },\n",
       "    \"number_of_steps\": 10,\n",
       "    \"region\": {\n",
       "        \"region\": []\n",
       "    },\n",
       "    \"region_params\": {\n",
       "        \"ignored_smoothness_length\": 0.01,\n",
       "        \"river_boundary_id\": 100,\n",
       "        \"river_width\": 1e-07,\n",
       "        \"smoothness_degree\": 0.2\n",
       "    },\n",
       "    \"rivers\": {\n",
       "        \"branches\": null,\n",
       "        \"relations\": []\n",
       "    },\n",
       "    \"solver_parameters\": {\n",
       "        \"adaptive_refinment_steps\": 0,\n",
       "        \"field_value\": 1.0,\n",
       "        \"num_of_iterrations\": 6000,\n",
       "        \"quadrature_degree\": 3,\n",
       "        \"refinment_fraction\": 0.1,\n",
       "        \"renumbering_type\": 0,\n",
       "        \"static_refinment_steps\": 0,\n",
       "        \"tollerance\": 1e-12\n",
       "    },\n",
       "    \"sources\": {\n",
       "        \"sources\": []\n",
       "    },\n",
       "    \"width\": 1.0\n",
       "}"
      ]
     },
     "execution_count": 132,
     "metadata": {},
     "output_type": "execute_result"
    }
   ],
   "source": [
    "riversim.Model()"
   ]
  },
  {
   "cell_type": "markdown",
   "metadata": {},
   "source": [
    "## Input/Output"
   ]
  },
  {
   "cell_type": "code",
   "execution_count": 133,
   "metadata": {
    "tags": []
   },
   "outputs": [
    {
     "name": "stdout",
     "output_type": "stream",
     "text": [
      "101.0\n",
      "True\n"
     ]
    }
   ],
   "source": [
    "model = riversim.Model()\n",
    "model.ds = 101\n",
    "model.initializeDirichlet()\n",
    "riversim.save(model, \"model_out.json\")\n",
    "model2 = riversim.Model()\n",
    "riversim.open(model2, \"model_out.json\")\n",
    "print(model2.ds)\n",
    "print(model == model2)"
   ]
  }
 ],
 "metadata": {
  "interpreter": {
   "hash": "916dbcbb3f70747c44a77c7bcd40155683ae19c65e1c03b4aa3499c5328201f1"
  },
  "kernelspec": {
   "display_name": "Python 3.8.2 64-bit",
   "language": "python",
   "name": "python3"
  },
  "language_info": {
   "codemirror_mode": {
    "name": "ipython",
    "version": 3
   },
   "file_extension": ".py",
   "mimetype": "text/x-python",
   "name": "python",
   "nbconvert_exporter": "python",
   "pygments_lexer": "ipython3",
   "version": "3.8.10"
  },
  "orig_nbformat": 2
 },
 "nbformat": 4,
 "nbformat_minor": 2
}
