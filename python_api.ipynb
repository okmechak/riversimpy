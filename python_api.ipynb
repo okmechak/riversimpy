{
 "cells": [
  {
   "cell_type": "markdown",
   "metadata": {},
   "source": [
    "# RiverSIM"
   ]
  },
  {
   "cell_type": "markdown",
   "metadata": {},
   "source": [
    "## Import"
   ]
  },
  {
   "cell_type": "markdown",
   "metadata": {},
   "source": [
    "Before running script, copy it to `<BuildFolder>/riversim/source` and after that you can run below commands."
   ]
  },
  {
   "cell_type": "code",
   "execution_count": 4,
   "metadata": {},
   "outputs": [],
   "source": [
    "import riversim"
   ]
  },
  {
   "cell_type": "markdown",
   "metadata": {},
   "source": [
    "## Geometry primitives"
   ]
  },
  {
   "cell_type": "markdown",
   "metadata": {},
   "source": [
    "### Polar"
   ]
  },
  {
   "cell_type": "code",
   "execution_count": 5,
   "metadata": {},
   "outputs": [
    {
     "data": {
      "text/plain": [
       "{\n",
       "    \"phi\": 1.0,\n",
       "    \"r\": 1.0\n",
       "}"
      ]
     },
     "execution_count": 5,
     "metadata": {},
     "output_type": "execute_result"
    }
   ],
   "source": [
    "polar1 = riversim.Polar(1, 1)\n",
    "polar1"
   ]
  },
  {
   "cell_type": "code",
   "execution_count": 6,
   "metadata": {},
   "outputs": [],
   "source": [
    "polar2 = riversim.Polar()"
   ]
  },
  {
   "cell_type": "code",
   "execution_count": 7,
   "metadata": {},
   "outputs": [
    {
     "data": {
      "text/plain": [
       "True"
      ]
     },
     "execution_count": 7,
     "metadata": {},
     "output_type": "execute_result"
    }
   ],
   "source": [
    "polar1 == polar1"
   ]
  },
  {
   "cell_type": "code",
   "execution_count": 8,
   "metadata": {},
   "outputs": [
    {
     "data": {
      "text/plain": [
       "False"
      ]
     },
     "execution_count": 8,
     "metadata": {},
     "output_type": "execute_result"
    }
   ],
   "source": [
    "polar1 != polar1"
   ]
  },
  {
   "cell_type": "code",
   "execution_count": 9,
   "metadata": {},
   "outputs": [],
   "source": [
    "polar1.phi = 2\n",
    "polar1.r = 20"
   ]
  },
  {
   "cell_type": "code",
   "execution_count": 10,
   "metadata": {},
   "outputs": [
    {
     "data": {
      "text/plain": [
       "2.0"
      ]
     },
     "execution_count": 10,
     "metadata": {},
     "output_type": "execute_result"
    }
   ],
   "source": [
    "polar1.phi"
   ]
  },
  {
   "cell_type": "code",
   "execution_count": 11,
   "metadata": {},
   "outputs": [
    {
     "data": {
      "text/plain": [
       "20.0"
      ]
     },
     "execution_count": 11,
     "metadata": {},
     "output_type": "execute_result"
    }
   ],
   "source": [
    "polar1.r"
   ]
  },
  {
   "cell_type": "markdown",
   "metadata": {},
   "source": [
    "### Point"
   ]
  },
  {
   "cell_type": "code",
   "execution_count": 12,
   "metadata": {
    "tags": []
   },
   "outputs": [
    {
     "name": "stdout",
     "output_type": "stream",
     "text": [
      "{\n",
      "    \"x\": 1.0,\n",
      "    \"y\": 1.0\n",
      "}\n",
      "1.4142135623730951\n",
      "45.001327204055606\n"
     ]
    }
   ],
   "source": [
    "p = riversim.Point(1, 1)\n",
    "print(p)\n",
    "\n",
    "print(p.norm())\n",
    "\n",
    "print(p.angle()/3.1415*180)"
   ]
  },
  {
   "cell_type": "code",
   "execution_count": 13,
   "metadata": {},
   "outputs": [
    {
     "name": "stdout",
     "output_type": "stream",
     "text": [
      "{\n",
      "    \"x\": 1.0,\n",
      "    \"y\": 1.0\n",
      "}\n",
      "{\n",
      "    \"x\": 1.0,\n",
      "    \"y\": 1.0\n",
      "}\n"
     ]
    },
    {
     "data": {
      "text/plain": [
       "{\n",
       "    \"x\": 1.0,\n",
       "    \"y\": 1.0\n",
       "}"
      ]
     },
     "execution_count": 13,
     "metadata": {},
     "output_type": "execute_result"
    }
   ],
   "source": [
    "print(p)\n",
    "print(str(p))\n",
    "p"
   ]
  },
  {
   "cell_type": "code",
   "execution_count": 12,
   "metadata": {},
   "outputs": [
    {
     "data": {
      "text/plain": [
       "{\n",
       "    \"x\": 1.0,\n",
       "    \"y\": 1.0\n",
       "}"
      ]
     },
     "execution_count": 12,
     "metadata": {},
     "output_type": "execute_result"
    }
   ],
   "source": [
    "p"
   ]
  },
  {
   "cell_type": "code",
   "execution_count": 14,
   "metadata": {},
   "outputs": [],
   "source": [
    "point0 = riversim.Point()\n",
    "point0.x = 0\n",
    "point0.y = 0"
   ]
  },
  {
   "cell_type": "code",
   "execution_count": 21,
   "metadata": {},
   "outputs": [
    {
     "ename": "RuntimeError",
     "evalue": "norm is equal to zero",
     "output_type": "error",
     "traceback": [
      "\u001b[0;31m---------------------------------------------------------------------------\u001b[0m",
      "\u001b[0;31mRuntimeError\u001b[0m                              Traceback (most recent call last)",
      "\u001b[1;32m/home/oleg/Documents/riversim/riversimpy/python_api.ipynb Cell 19'\u001b[0m in \u001b[0;36m<module>\u001b[0;34m\u001b[0m\n\u001b[0;32m----> <a href='vscode-notebook-cell://ssh-remote%2B7b22686f73744e616d65223a22557273612d4d616a6f72227d/home/oleg/Documents/riversim/riversimpy/python_api.ipynb#ch0000142vscode-remote?line=0'>1</a>\u001b[0m point0\u001b[39m.\u001b[39;49mnormalize()\n",
      "\u001b[0;31mRuntimeError\u001b[0m: norm is equal to zero"
     ]
    }
   ],
   "source": [
    "point0.normalize()"
   ]
  },
  {
   "cell_type": "code",
   "execution_count": 15,
   "metadata": {},
   "outputs": [
    {
     "data": {
      "text/plain": [
       "0.0"
      ]
     },
     "execution_count": 15,
     "metadata": {},
     "output_type": "execute_result"
    }
   ],
   "source": [
    "point0.norm()"
   ]
  },
  {
   "cell_type": "code",
   "execution_count": 16,
   "metadata": {},
   "outputs": [],
   "source": [
    "point1 = riversim.Point(1, 1)\n",
    "polar3 = riversim.ToPolar(point1)\n",
    "point2 = riversim.Point(point1)\n",
    "point3 = riversim.Point(polar1)"
   ]
  },
  {
   "cell_type": "code",
   "execution_count": 17,
   "metadata": {},
   "outputs": [
    {
     "data": {
      "text/plain": [
       "-1.4901161193847656e-08"
      ]
     },
     "execution_count": 17,
     "metadata": {},
     "output_type": "execute_result"
    }
   ],
   "source": [
    "point1.angle(point1)"
   ]
  },
  {
   "cell_type": "code",
   "execution_count": 18,
   "metadata": {},
   "outputs": [
    {
     "data": {
      "text/plain": [
       "2.0"
      ]
     },
     "execution_count": 18,
     "metadata": {},
     "output_type": "execute_result"
    }
   ],
   "source": [
    "(point1 + point1).x"
   ]
  },
  {
   "cell_type": "code",
   "execution_count": 19,
   "metadata": {},
   "outputs": [],
   "source": [
    "point1 - point1\n",
    "point1 * point1\n",
    "point1 * 10\n",
    "point1 -= point1\n",
    "point1 += point1\n",
    "point1 *= 10"
   ]
  },
  {
   "cell_type": "code",
   "execution_count": 32,
   "metadata": {},
   "outputs": [
    {
     "name": "stdout",
     "output_type": "stream",
     "text": [
      "{\n",
      "    \"x\": 4.632679487995776e-05,\n",
      "    \"y\": 0.999999998926914\n",
      "}\n",
      "1.57075\n",
      "-0.0\n",
      "1.0\n"
     ]
    }
   ],
   "source": [
    "p = riversim.Point(1, 0)\n",
    "p.rotate(3.1415/2)\n",
    "print(p)\n",
    "print(riversim.Point.angle(p))\n",
    "print(riversim.Point.angle(p, p))\n",
    "print(riversim.Point.norm(p))"
   ]
  },
  {
   "cell_type": "code",
   "execution_count": 33,
   "metadata": {},
   "outputs": [
    {
     "name": "stdout",
     "output_type": "stream",
     "text": [
      "1.0\n",
      "2.0\n"
     ]
    }
   ],
   "source": [
    "p = riversim.Point(1, 2)\n",
    "print(p[0])\n",
    "print(p[1])"
   ]
  },
  {
   "cell_type": "markdown",
   "metadata": {},
   "source": [
    "## Boundary"
   ]
  },
  {
   "cell_type": "markdown",
   "metadata": {},
   "source": [
    "### t_boundary"
   ]
  },
  {
   "cell_type": "code",
   "execution_count": 34,
   "metadata": {
    "tags": []
   },
   "outputs": [
    {
     "name": "stdout",
     "output_type": "stream",
     "text": [
      "DIRICHLET\n",
      "NEUMAN\n"
     ]
    }
   ],
   "source": [
    "bound_test = riversim.t_boundary()\n",
    "print(bound_test.DIRICHLET)\n",
    "print(bound_test.NEUMAN)"
   ]
  },
  {
   "cell_type": "code",
   "execution_count": 20,
   "metadata": {
    "tags": []
   },
   "outputs": [
    {
     "name": "stdout",
     "output_type": "stream",
     "text": [
      "DIRICHLET\n"
     ]
    }
   ],
   "source": [
    "print(riversim.t_boundary.DIRICHLET)"
   ]
  },
  {
   "cell_type": "code",
   "execution_count": 35,
   "metadata": {},
   "outputs": [
    {
     "data": {
      "text/plain": [
       "True"
      ]
     },
     "execution_count": 35,
     "metadata": {},
     "output_type": "execute_result"
    }
   ],
   "source": [
    "riversim.t_boundary.DIRICHLET == bound_test.DIRICHLET"
   ]
  },
  {
   "cell_type": "markdown",
   "metadata": {},
   "source": [
    "### BoundaryCondition"
   ]
  },
  {
   "cell_type": "code",
   "execution_count": 38,
   "metadata": {},
   "outputs": [
    {
     "name": "stdout",
     "output_type": "stream",
     "text": [
      "{\n",
      "    \"type\": \"Neuman\",\n",
      "    \"value\": 100.0\n",
      "}\n"
     ]
    }
   ],
   "source": [
    "bc_test = riversim.BoundaryCondition()\n",
    "bc_test.value = 100\n",
    "bc_test.type = riversim.t_boundary.NEUMAN\n",
    "print(bc_test)"
   ]
  },
  {
   "cell_type": "markdown",
   "metadata": {},
   "source": [
    "### t_BoundaryConditions"
   ]
  },
  {
   "cell_type": "code",
   "execution_count": 41,
   "metadata": {},
   "outputs": [],
   "source": [
    "t_bcs = riversim.t_BoundaryConditions()\n",
    "bcs = riversim.BoundaryConditions()"
   ]
  },
  {
   "cell_type": "code",
   "execution_count": 49,
   "metadata": {},
   "outputs": [
    {
     "name": "stdout",
     "output_type": "stream",
     "text": [
      "{\n",
      "    \"boundary_conditions\": [\n",
      "        [\n",
      "            1,\n",
      "            {\n",
      "                \"type\": \"Neuman\",\n",
      "                \"value\": 9.9\n",
      "            }\n",
      "        ],\n",
      "        [\n",
      "            2,\n",
      "            {\n",
      "                \"type\": \"Dirichlet\",\n",
      "                \"value\": 13.8\n",
      "            }\n",
      "        ]\n",
      "    ]\n",
      "}\n"
     ]
    }
   ],
   "source": [
    "bc_1 = riversim.BoundaryCondition()\n",
    "bc_1.value = 9.9\n",
    "bc_1.type = riversim.t_boundary.NEUMAN\n",
    "\n",
    "bc_2 = riversim.BoundaryCondition()\n",
    "bc_2.value = 13.8\n",
    "bc_2.type = riversim.t_boundary.DIRICHLET\n",
    "\n",
    "t_bcs[1] = bc_1\n",
    "t_bcs[2] = bc_2\n",
    "bcs[1] = bc_1\n",
    "bcs[2] = bc_2\n",
    "print(bcs)"
   ]
  },
  {
   "cell_type": "code",
   "execution_count": 43,
   "metadata": {
    "tags": []
   },
   "outputs": [
    {
     "name": "stdout",
     "output_type": "stream",
     "text": [
      "9.9\n",
      "NEUMAN\n"
     ]
    }
   ],
   "source": [
    "print(t_bcs[1].value)\n",
    "print(t_bcs[1].type)"
   ]
  },
  {
   "cell_type": "code",
   "execution_count": 44,
   "metadata": {
    "tags": []
   },
   "outputs": [
    {
     "name": "stdout",
     "output_type": "stream",
     "text": [
      "13.8\n",
      "DIRICHLET\n"
     ]
    }
   ],
   "source": [
    "print(t_bcs[2].value)\n",
    "print(t_bcs[2].type)"
   ]
  },
  {
   "cell_type": "code",
   "execution_count": 45,
   "metadata": {
    "tags": []
   },
   "outputs": [
    {
     "name": "stdout",
     "output_type": "stream",
     "text": [
      "3.0\n",
      "NEUMAN\n"
     ]
    }
   ],
   "source": [
    "t_bcs[1].value = 3\n",
    "print(t_bcs[1].value)\n",
    "print(t_bcs[1].type)"
   ]
  },
  {
   "cell_type": "markdown",
   "metadata": {},
   "source": [
    "#### This looks like working example\n",
    "\n",
    "getter and setter"
   ]
  },
  {
   "cell_type": "code",
   "execution_count": 46,
   "metadata": {
    "tags": []
   },
   "outputs": [
    {
     "name": "stdout",
     "output_type": "stream",
     "text": [
      "123.0\n",
      "DIRICHLET\n",
      "45.0\n",
      "NEUMAN\n"
     ]
    }
   ],
   "source": [
    "a = t_bcs[1]\n",
    "b = t_bcs[2]\n",
    "a.value = 123\n",
    "a.type = riversim.t_boundary.DIRICHLET\n",
    "b.value = 45\n",
    "b.type = riversim.t_boundary.NEUMAN\n",
    "t_bcs[1] = a\n",
    "t_bcs[2] = b\n",
    "print(t_bcs[1].value)\n",
    "print(t_bcs[1].type)\n",
    "print(t_bcs[2].value)\n",
    "print(t_bcs[2].type)"
   ]
  },
  {
   "cell_type": "markdown",
   "metadata": {},
   "source": [
    "without proxy"
   ]
  },
  {
   "cell_type": "code",
   "execution_count": 47,
   "metadata": {
    "tags": []
   },
   "outputs": [
    {
     "name": "stdout",
     "output_type": "stream",
     "text": [
      "124.0\n",
      "DIRICHLET\n",
      "44.0\n",
      "NEUMAN\n"
     ]
    }
   ],
   "source": [
    "t_bcs[1].value = 124\n",
    "t_bcs[1].type = riversim.t_boundary.DIRICHLET\n",
    "t_bcs[2].value = 44\n",
    "t_bcs[2].type = riversim.t_boundary.NEUMAN\n",
    "print(t_bcs[1].value)\n",
    "print(t_bcs[1].type)\n",
    "print(t_bcs[2].value)\n",
    "print(t_bcs[2].type)"
   ]
  },
  {
   "cell_type": "markdown",
   "metadata": {},
   "source": [
    "deletion"
   ]
  },
  {
   "cell_type": "code",
   "execution_count": 50,
   "metadata": {},
   "outputs": [
    {
     "data": {
      "text/plain": [
       "False"
      ]
     },
     "execution_count": 50,
     "metadata": {},
     "output_type": "execute_result"
    }
   ],
   "source": [
    "del t_bcs[1]\n",
    "print(2 in t_bcs)\n",
    "print(1 in t_bcs)"
   ]
  },
  {
   "cell_type": "markdown",
   "metadata": {},
   "source": [
    "### BoundaryConditions"
   ]
  },
  {
   "cell_type": "code",
   "execution_count": 52,
   "metadata": {},
   "outputs": [
    {
     "data": {
      "text/plain": [
       "{\n",
       "    \"boundary_conditions\": []\n",
       "}"
      ]
     },
     "execution_count": 52,
     "metadata": {},
     "output_type": "execute_result"
    }
   ],
   "source": [
    "bcs = riversim.BoundaryConditions()\n",
    "bcs"
   ]
  },
  {
   "cell_type": "markdown",
   "metadata": {},
   "source": [
    "#### lets check map methods, cos BoundaryConditions is child of t_BoundaryConditions"
   ]
  },
  {
   "cell_type": "markdown",
   "metadata": {},
   "source": [
    "##### getter and setter"
   ]
  },
  {
   "cell_type": "code",
   "execution_count": 54,
   "metadata": {
    "tags": []
   },
   "outputs": [
    {
     "name": "stdout",
     "output_type": "stream",
     "text": [
      "2000.0\n",
      "1200.0\n",
      "{\n",
      "    \"type\": \"Dirichlet\",\n",
      "    \"value\": 2000.0\n",
      "}\n",
      "2\n",
      "True\n",
      "True\n",
      "False\n",
      "False\n"
     ]
    }
   ],
   "source": [
    "bc_1 = riversim.BoundaryCondition()\n",
    "bc_1.value = 1000\n",
    "bc_1.type = riversim.t_boundary.DIRICHLET\n",
    "\n",
    "bc_2 = riversim.BoundaryCondition()\n",
    "bc_2.value = 300\n",
    "bc_2.type = riversim.t_boundary.NEUMAN\n",
    "\n",
    "bcs[1] = bc_1\n",
    "bcs[2] = bc_2\n",
    "\n",
    "a = bcs[1]\n",
    "b = bcs[2]\n",
    "\n",
    "a.value = 2*a.value\n",
    "b.value = 4*b.value\n",
    "\n",
    "bcs[1] = a\n",
    "bcs[2] = b\n",
    "\n",
    "print(bcs[1].value)\n",
    "print(bcs[2].value)\n",
    "\n",
    "\n",
    "\n",
    "print(bcs[1])\n",
    "\n",
    "print(len(bcs))\n",
    "\n",
    "print(1 in bcs)\n",
    "print(2 in bcs)\n",
    "print(3 in bcs)\n",
    "\n",
    "del bcs[1]\n",
    "print(1 in bcs)"
   ]
  },
  {
   "cell_type": "markdown",
   "metadata": {},
   "source": [
    "#### Get method"
   ]
  },
  {
   "cell_type": "code",
   "execution_count": 64,
   "metadata": {},
   "outputs": [
    {
     "name": "stdout",
     "output_type": "stream",
     "text": [
      "{\n",
      "    \"type\": \"Neuman\",\n",
      "    \"value\": 1.0\n",
      "}\n"
     ]
    }
   ],
   "source": [
    "bcs = riversim.BoundaryConditions()\n",
    "\n",
    "bc_1 = riversim.BoundaryCondition()\n",
    "bc_1.value = 1;\n",
    "bc_1.type = riversim.t_boundary.NEUMAN\n",
    "\n",
    "bc_2 = riversim.BoundaryCondition()\n",
    "bc_2.value = 2;\n",
    "bc_2.type = riversim.t_boundary.DIRICHLET\n",
    "\n",
    "bc_3 = riversim.BoundaryCondition()\n",
    "bc_3.value = 3;\n",
    "bc_3.type = riversim.t_boundary.NEUMAN\n",
    "\n",
    "bc_4 = riversim.BoundaryCondition()\n",
    "bc_4.value = 4;\n",
    "bc_4.type = riversim.t_boundary.DIRICHLET\n",
    "\n",
    "bcs[1] = bc_1\n",
    "bcs[2] = bc_2\n",
    "bcs[3] = bc_3\n",
    "bcs[4] = bc_4\n",
    "\n",
    "bcs_neuman = bcs.Get(riversim.t_boundary.NEUMAN)\n",
    "print(bcs_neuman[1])"
   ]
  },
  {
   "cell_type": "code",
   "execution_count": 65,
   "metadata": {
    "tags": []
   },
   "outputs": [
    {
     "name": "stdout",
     "output_type": "stream",
     "text": [
      "NEUMAN\n",
      "NEUMAN\n",
      "2\n"
     ]
    }
   ],
   "source": [
    "print(bcs_neuman[1].type)\n",
    "print(bcs_neuman[3].type)\n",
    "print(len(bcs_neuman))"
   ]
  },
  {
   "cell_type": "markdown",
   "metadata": {},
   "source": [
    "### `t_source_coord` or porting `Pair`"
   ]
  },
  {
   "cell_type": "code",
   "execution_count": 67,
   "metadata": {},
   "outputs": [
    {
     "name": "stdout",
     "output_type": "stream",
     "text": [
      "<riversim.t_source_coord object at 0x7f486477f7c0>\n"
     ]
    }
   ],
   "source": [
    "source_coord = riversim.t_source_coord()\n",
    "print(source_coord)"
   ]
  },
  {
   "cell_type": "code",
   "execution_count": 68,
   "metadata": {},
   "outputs": [],
   "source": [
    "source_coord.boundary_id = 1"
   ]
  },
  {
   "cell_type": "code",
   "execution_count": 69,
   "metadata": {},
   "outputs": [],
   "source": [
    "source_coord.vert_pos = 2"
   ]
  },
  {
   "cell_type": "code",
   "execution_count": 70,
   "metadata": {
    "tags": []
   },
   "outputs": [
    {
     "name": "stdout",
     "output_type": "stream",
     "text": [
      "1\n",
      "2\n"
     ]
    }
   ],
   "source": [
    "print(source_coord.boundary_id)\n",
    "print(source_coord.vert_pos)"
   ]
  },
  {
   "cell_type": "markdown",
   "metadata": {},
   "source": [
    "### `t_sources_ids` or `vector` wrapper"
   ]
  },
  {
   "cell_type": "code",
   "execution_count": 74,
   "metadata": {},
   "outputs": [
    {
     "name": "stdout",
     "output_type": "stream",
     "text": [
      "<riversim.t_sources_ids object at 0x7f48649257c0>\n"
     ]
    }
   ],
   "source": [
    "sources_ids = riversim.t_sources_ids()\n",
    "print(sources_ids)"
   ]
  },
  {
   "cell_type": "code",
   "execution_count": 77,
   "metadata": {},
   "outputs": [],
   "source": [
    "sources_ids.append(1)\n",
    "sources_ids.append(2)\n",
    "sources_ids.append(3)"
   ]
  },
  {
   "cell_type": "code",
   "execution_count": 78,
   "metadata": {
    "tags": []
   },
   "outputs": [
    {
     "name": "stdout",
     "output_type": "stream",
     "text": [
      "1\n",
      "2\n",
      "3\n",
      "3\n",
      "2\n"
     ]
    }
   ],
   "source": [
    "print(sources_ids[0])\n",
    "print(sources_ids[1])\n",
    "print(sources_ids[2])\n",
    "print(sources_ids[-1])\n",
    "print(sources_ids[-2])"
   ]
  },
  {
   "cell_type": "code",
   "execution_count": 79,
   "metadata": {},
   "outputs": [
    {
     "data": {
      "text/plain": [
       "3"
      ]
     },
     "execution_count": 79,
     "metadata": {},
     "output_type": "execute_result"
    }
   ],
   "source": [
    "len(sources_ids)"
   ]
  },
  {
   "cell_type": "code",
   "execution_count": 80,
   "metadata": {},
   "outputs": [],
   "source": [
    "del sources_ids[1]"
   ]
  },
  {
   "cell_type": "code",
   "execution_count": 81,
   "metadata": {},
   "outputs": [
    {
     "data": {
      "text/plain": [
       "2"
      ]
     },
     "execution_count": 81,
     "metadata": {},
     "output_type": "execute_result"
    }
   ],
   "source": [
    "len(sources_ids)"
   ]
  },
  {
   "cell_type": "markdown",
   "metadata": {},
   "source": [
    "### `t_Sources`"
   ]
  },
  {
   "cell_type": "code",
   "execution_count": 83,
   "metadata": {},
   "outputs": [
    {
     "name": "stdout",
     "output_type": "stream",
     "text": [
      "<riversim.t_Sources object at 0x7f486479f860>\n"
     ]
    }
   ],
   "source": [
    "sources = riversim.t_Sources()\n",
    "print(sources)"
   ]
  },
  {
   "cell_type": "code",
   "execution_count": 84,
   "metadata": {},
   "outputs": [
    {
     "data": {
      "text/plain": [
       "0"
      ]
     },
     "execution_count": 84,
     "metadata": {},
     "output_type": "execute_result"
    }
   ],
   "source": [
    "len(sources)"
   ]
  },
  {
   "cell_type": "code",
   "execution_count": 50,
   "metadata": {},
   "outputs": [],
   "source": [
    "source_coord_1 = riversim.t_source_coord()\n",
    "source_coord_1.boundary_id = 1\n",
    "source_coord_1.vert_pos = 3\n",
    "\n",
    "source_coord_2 = riversim.t_source_coord()\n",
    "source_coord_2.boundary_id = 1\n",
    "source_coord_2.vert_pos = 4\n",
    "\n",
    "source_coord_3 = riversim.t_source_coord()\n",
    "source_coord_3.boundary_id = 2\n",
    "source_coord_3.vert_pos = 2\n",
    "\n",
    "sources[1] = source_coord_1\n",
    "sources[2] = source_coord_2\n",
    "sources[3] = source_coord_3"
   ]
  },
  {
   "cell_type": "code",
   "execution_count": 51,
   "metadata": {},
   "outputs": [
    {
     "data": {
      "text/plain": [
       "3"
      ]
     },
     "execution_count": 51,
     "metadata": {},
     "output_type": "execute_result"
    }
   ],
   "source": [
    "len(sources)"
   ]
  },
  {
   "cell_type": "code",
   "execution_count": 52,
   "metadata": {},
   "outputs": [
    {
     "data": {
      "text/plain": [
       "True"
      ]
     },
     "execution_count": 52,
     "metadata": {},
     "output_type": "execute_result"
    }
   ],
   "source": [
    "1 in sources"
   ]
  },
  {
   "cell_type": "markdown",
   "metadata": {},
   "source": [
    "### `Sources`"
   ]
  },
  {
   "cell_type": "code",
   "execution_count": 88,
   "metadata": {},
   "outputs": [
    {
     "name": "stdout",
     "output_type": "stream",
     "text": [
      "{\n",
      "    \"sources\": [\n",
      "        [\n",
      "            1,\n",
      "            [\n",
      "                1,\n",
      "                3\n",
      "            ]\n",
      "        ],\n",
      "        [\n",
      "            2,\n",
      "            [\n",
      "                1,\n",
      "                4\n",
      "            ]\n",
      "        ],\n",
      "        [\n",
      "            3,\n",
      "            [\n",
      "                2,\n",
      "                2\n",
      "            ]\n",
      "        ]\n",
      "    ]\n",
      "}\n"
     ]
    }
   ],
   "source": [
    "source_coord_1 = riversim.t_source_coord()\n",
    "source_coord_1.boundary_id = 1\n",
    "source_coord_1.vert_pos = 3\n",
    "\n",
    "source_coord_2 = riversim.t_source_coord()\n",
    "source_coord_2.boundary_id = 1\n",
    "source_coord_2.vert_pos = 4\n",
    "\n",
    "source_coord_3 = riversim.t_source_coord()\n",
    "source_coord_3.boundary_id = 2\n",
    "source_coord_3.vert_pos = 2\n",
    "\n",
    "sources = riversim.Sources()\n",
    "sources[1] = source_coord_1\n",
    "sources[2] = source_coord_2\n",
    "sources[3] = source_coord_3\n",
    "print(sources)"
   ]
  },
  {
   "cell_type": "code",
   "execution_count": 91,
   "metadata": {},
   "outputs": [
    {
     "name": "stdout",
     "output_type": "stream",
     "text": [
      "<riversim.t_sources_ids object at 0x7f48648162c0>\n"
     ]
    }
   ],
   "source": [
    "sources_ids = sources.getSourcesIds()\n",
    "print(sources_ids)"
   ]
  },
  {
   "cell_type": "code",
   "execution_count": 90,
   "metadata": {},
   "outputs": [
    {
     "data": {
      "text/plain": [
       "3"
      ]
     },
     "execution_count": 90,
     "metadata": {},
     "output_type": "execute_result"
    }
   ],
   "source": [
    "sources_ids[2]"
   ]
  },
  {
   "cell_type": "markdown",
   "metadata": {},
   "source": [
    "### `Line`"
   ]
  },
  {
   "cell_type": "code",
   "execution_count": 94,
   "metadata": {
    "tags": []
   },
   "outputs": [
    {
     "name": "stdout",
     "output_type": "stream",
     "text": [
      "True\n",
      "10\n",
      "1\n",
      "2\n",
      "3\n",
      "{\n",
      "    \"boundary_id\": 3,\n",
      "    \"p1\": 1,\n",
      "    \"p2\": 2\n",
      "}\n"
     ]
    }
   ],
   "source": [
    "line1 = riversim.Line()\n",
    "\n",
    "line1.p1 = 1\n",
    "line1.p2 = 2\n",
    "line1.boundary_id = 10\n",
    "\n",
    "line2 = riversim.Line(line1)\n",
    "\n",
    "print(line1 == line2)\n",
    "print(line2.boundary_id)\n",
    "\n",
    "line3 = riversim.Line(1, 2, 3)\n",
    "print(line3.p1)\n",
    "print(line3.p2)\n",
    "print(line3.boundary_id)\n",
    "print(line3)"
   ]
  },
  {
   "cell_type": "markdown",
   "metadata": {},
   "source": [
    "### `t_PointList`"
   ]
  },
  {
   "cell_type": "code",
   "execution_count": 95,
   "metadata": {
    "tags": []
   },
   "outputs": [
    {
     "name": "stdout",
     "output_type": "stream",
     "text": [
      "3\n"
     ]
    }
   ],
   "source": [
    "point_list = riversim.t_PointList()\n",
    "point_list.append(riversim.Point(1, 1))\n",
    "point_list.append(riversim.Point(2, 2))\n",
    "point_list.append(riversim.Point(3, 3))\n",
    "\n",
    "print(len(point_list))"
   ]
  },
  {
   "cell_type": "markdown",
   "metadata": {},
   "source": [
    "### `t_LineList`"
   ]
  },
  {
   "cell_type": "code",
   "execution_count": 96,
   "metadata": {
    "tags": []
   },
   "outputs": [
    {
     "name": "stdout",
     "output_type": "stream",
     "text": [
      "3\n"
     ]
    }
   ],
   "source": [
    "line_list = riversim.t_LineList()\n",
    "line_list.append(riversim.Line(1, 1, 1))\n",
    "line_list.append(riversim.Line(2, 2, 2))\n",
    "line_list.append(riversim.Line(3, 3, 3))\n",
    "\n",
    "print(len(line_list))"
   ]
  },
  {
   "cell_type": "markdown",
   "metadata": {},
   "source": [
    "### `Boundary`"
   ]
  },
  {
   "cell_type": "code",
   "execution_count": 100,
   "metadata": {},
   "outputs": [
    {
     "name": "stdout",
     "output_type": "stream",
     "text": [
      "{\n",
      "    \"lines\": [\n",
      "        {\n",
      "            \"boundary_id\": 1,\n",
      "            \"p1\": 3,\n",
      "            \"p2\": 4\n",
      "        },\n",
      "        {\n",
      "            \"boundary_id\": 1,\n",
      "            \"p1\": 2,\n",
      "            \"p2\": 3\n",
      "        },\n",
      "        {\n",
      "            \"boundary_id\": 1,\n",
      "            \"p1\": 4,\n",
      "            \"p2\": 5\n",
      "        },\n",
      "        {\n",
      "            \"boundary_id\": 1,\n",
      "            \"p1\": 5,\n",
      "            \"p2\": 6\n",
      "        },\n",
      "        {\n",
      "            \"boundary_id\": 1,\n",
      "            \"p1\": 6,\n",
      "            \"p2\": 7\n",
      "        },\n",
      "        {\n",
      "            \"boundary_id\": 1,\n",
      "            \"p1\": 7,\n",
      "            \"p2\": 1\n",
      "        },\n",
      "        {\n",
      "            \"boundary_id\": 1,\n",
      "            \"p1\": 8,\n",
      "            \"p2\": 9\n",
      "        }\n",
      "    ],\n",
      "    \"vertices\": [\n",
      "        {\n",
      "            \"x\": 0.0,\n",
      "            \"y\": 0.0\n",
      "        },\n",
      "        {\n",
      "            \"x\": 0.2,\n",
      "            \"y\": 0.0\n",
      "        },\n",
      "        {\n",
      "            \"x\": 0.25,\n",
      "            \"y\": 0.1\n",
      "        },\n",
      "        {\n",
      "            \"x\": 0.3,\n",
      "            \"y\": 0.0\n",
      "        },\n",
      "        {\n",
      "            \"x\": 1.0,\n",
      "            \"y\": 0.0\n",
      "        },\n",
      "        {\n",
      "            \"x\": 1.0,\n",
      "            \"y\": 1.0\n",
      "        },\n",
      "        {\n",
      "            \"x\": 0.0,\n",
      "            \"y\": 1.0\n",
      "        },\n",
      "        {\n",
      "            \"x\": 0.2,\n",
      "            \"y\": 0.0\n",
      "        },\n",
      "        {\n",
      "            \"x\": 0.25,\n",
      "            \"y\": 0.1\n",
      "        },\n",
      "        {\n",
      "            \"x\": 0.3,\n",
      "            \"y\": 0.0\n",
      "        }\n",
      "    ]\n",
      "}\n"
     ]
    }
   ],
   "source": [
    "point_list = riversim.t_PointList()\n",
    "point_list.append(riversim.Point(0, 0))\n",
    "point_list.append(riversim.Point(0.25, 0))\n",
    "point_list.append(riversim.Point(1, 0))\n",
    "point_list.append(riversim.Point(1, 1))\n",
    "point_list.append(riversim.Point(0, 1))\n",
    "\n",
    "line_list = riversim.t_LineList()\n",
    "line_list.append(riversim.Line(1, 2, 1))\n",
    "line_list.append(riversim.Line(2, 3, 1))\n",
    "line_list.append(riversim.Line(3, 4, 1))\n",
    "line_list.append(riversim.Line(4, 5, 1))\n",
    "line_list.append(riversim.Line(5, 1, 1))\n",
    "\n",
    "simple_boundary = riversim.Boundary()\n",
    "simple_boundary.vertices = point_list\n",
    "simple_boundary.lines = line_list\n",
    "\n",
    "point_in_list = riversim.t_PointList()\n",
    "point_in_list.append(riversim.Point(0.2, 0))\n",
    "point_in_list.append(riversim.Point(0.25, 0.1))\n",
    "point_in_list.append(riversim.Point(0.3, 0))\n",
    "\n",
    "line_in_list = riversim.t_LineList()\n",
    "line_in_list.append(riversim.Line(1, 2, 1))\n",
    "line_list.append(riversim.Line(2, 3, 1))\n",
    "\n",
    "in_boundary = riversim.Boundary()\n",
    "in_boundary.vertices = point_in_list\n",
    "in_boundary.lines = line_in_list\n",
    "\n",
    "simple_boundary.replaceElement(1, in_boundary)\n",
    "\n",
    "#this will produce some strange boundary, but juss let test append function\n",
    "simple_boundary.append(in_boundary)\n",
    "print(simple_boundary)"
   ]
  },
  {
   "cell_type": "markdown",
   "metadata": {},
   "source": [
    "### `t_Region`"
   ]
  },
  {
   "cell_type": "code",
   "execution_count": 103,
   "metadata": {},
   "outputs": [],
   "source": [
    "boundaries = riversim.t_Region()\n",
    "\n",
    "boundaries[1] = simple_boundary\n",
    "boundaries[2] = in_boundary"
   ]
  },
  {
   "cell_type": "markdown",
   "metadata": {},
   "source": [
    "### `t_branch_source`"
   ]
  },
  {
   "cell_type": "code",
   "execution_count": 104,
   "metadata": {},
   "outputs": [],
   "source": [
    "branch_source = riversim.t_branch_source()\n",
    "\n",
    "branch_source.point = riversim.Point(0, 0)\n",
    "branch_source.angle = 0.01"
   ]
  },
  {
   "cell_type": "markdown",
   "metadata": {},
   "source": [
    "### `t_rivers_interface`"
   ]
  },
  {
   "cell_type": "code",
   "execution_count": 110,
   "metadata": {},
   "outputs": [
    {
     "name": "stdout",
     "output_type": "stream",
     "text": [
      "{\n",
      "    \"x\": 0.0,\n",
      "    \"y\": 0.0\n",
      "}\n",
      "0.0\n"
     ]
    }
   ],
   "source": [
    "i = riversim.t_rivers_interface()\n",
    "i[1] = riversim.t_branch_source()\n",
    "print(i[1].point)\n",
    "print(i[1].angle)"
   ]
  },
  {
   "cell_type": "markdown",
   "metadata": {},
   "source": [
    "### `Region`"
   ]
  },
  {
   "cell_type": "code",
   "execution_count": 115,
   "metadata": {
    "tags": []
   },
   "outputs": [
    {
     "name": "stdout",
     "output_type": "stream",
     "text": [
      "3\n",
      "1\n",
      "1\n",
      "0\n",
      "1.5707963267948966\n",
      "0.7853981633974483\n",
      "3.9269908169872414\n"
     ]
    }
   ],
   "source": [
    "boundaries = riversim.Region()\n",
    "\n",
    "sources = boundaries.makeRectangularWithHole(1, 1, 0.25)\n",
    "print(len(sources))\n",
    "print(sources[1].left)\n",
    "print(sources[1].right)\n",
    "boundaries.check()\n",
    "print(len(boundaries.getHolesList()))\n",
    "tree_int = boundaries.getSourcesIdsPointsAndAngles(sources)\n",
    "print(tree_int[1].angle)\n",
    "print(tree_int[2].angle)\n",
    "print(tree_int[3].angle)"
   ]
  },
  {
   "cell_type": "code",
   "execution_count": 116,
   "metadata": {
    "tags": []
   },
   "outputs": [
    {
     "name": "stdout",
     "output_type": "stream",
     "text": [
      "3\n",
      "3\n"
     ]
    }
   ],
   "source": [
    "a = sources[3]\n",
    "print(a.right)\n",
    "print(a.left)"
   ]
  },
  {
   "cell_type": "markdown",
   "metadata": {},
   "source": [
    "## Tethex"
   ]
  },
  {
   "cell_type": "code",
   "execution_count": 119,
   "metadata": {},
   "outputs": [
    {
     "data": {
      "text/plain": [
       "<riversim.t_Vector_of_TethexPoint at 0x7f48646b0d60>"
      ]
     },
     "execution_count": 119,
     "metadata": {},
     "output_type": "execute_result"
    }
   ],
   "source": [
    "riversim.t_Vector_of_TethexPoint()"
   ]
  },
  {
   "cell_type": "code",
   "execution_count": 123,
   "metadata": {},
   "outputs": [
    {
     "name": "stdout",
     "output_type": "stream",
     "text": [
      "0\n",
      "0\n",
      "0\n"
     ]
    }
   ],
   "source": [
    "a = riversim.TethexMesh()\n",
    "print(a.getNVertices())\n",
    "print(a.getNHoles())\n",
    "print(a.getNPoints())\n",
    "\n",
    "riversim.BoundaryGenerator()"
   ]
  },
  {
   "cell_type": "markdown",
   "metadata": {},
   "source": [
    "## Rivers"
   ]
  },
  {
   "cell_type": "markdown",
   "metadata": {},
   "source": [
    "### Branch"
   ]
  },
  {
   "cell_type": "code",
   "execution_count": 117,
   "metadata": {
    "tags": []
   },
   "outputs": [
    {
     "name": "stdout",
     "output_type": "stream",
     "text": [
      "1.7853981633974483\n"
     ]
    },
    {
     "ename": "AttributeError",
     "evalue": "'Branch' object has no attribute 'sourceAngle'",
     "output_type": "error",
     "traceback": [
      "\u001b[0;31m---------------------------------------------------------------------------\u001b[0m",
      "\u001b[0;31mAttributeError\u001b[0m                            Traceback (most recent call last)",
      "\u001b[1;32m/home/oleg/Documents/riversim/riversimpy/python_api.ipynb Cell 95'\u001b[0m in \u001b[0;36m<module>\u001b[0;34m\u001b[0m\n\u001b[1;32m     <a href='vscode-notebook-cell://ssh-remote%2B7b22686f73744e616d65223a22557273612d4d616a6f72227d/home/oleg/Documents/riversim/riversimpy/python_api.ipynb#ch0000094vscode-remote?line=11'>12</a>\u001b[0m angle \u001b[39m=\u001b[39m branch\u001b[39m.\u001b[39mtipAngle()\n\u001b[1;32m     <a href='vscode-notebook-cell://ssh-remote%2B7b22686f73744e616d65223a22557273612d4d616a6f72227d/home/oleg/Documents/riversim/riversimpy/python_api.ipynb#ch0000094vscode-remote?line=12'>13</a>\u001b[0m \u001b[39mprint\u001b[39m(angle)\n\u001b[0;32m---> <a href='vscode-notebook-cell://ssh-remote%2B7b22686f73744e616d65223a22557273612d4d616a6f72227d/home/oleg/Documents/riversim/riversimpy/python_api.ipynb#ch0000094vscode-remote?line=13'>14</a>\u001b[0m angle \u001b[39m=\u001b[39m branch\u001b[39m.\u001b[39;49msourceAngle()\n\u001b[1;32m     <a href='vscode-notebook-cell://ssh-remote%2B7b22686f73744e616d65223a22557273612d4d616a6f72227d/home/oleg/Documents/riversim/riversimpy/python_api.ipynb#ch0000094vscode-remote?line=14'>15</a>\u001b[0m \u001b[39mprint\u001b[39m(angle)\n\u001b[1;32m     <a href='vscode-notebook-cell://ssh-remote%2B7b22686f73744e616d65223a22557273612d4d616a6f72227d/home/oleg/Documents/riversim/riversimpy/python_api.ipynb#ch0000094vscode-remote?line=15'>16</a>\u001b[0m \u001b[39mprint\u001b[39m(branch\u001b[39m.\u001b[39mlenght())\n",
      "\u001b[0;31mAttributeError\u001b[0m: 'Branch' object has no attribute 'sourceAngle'"
     ]
    }
   ],
   "source": [
    "branch = riversim.Branch(riversim.Point(0, 0), 0)\n",
    "branch1 = riversim.Branch(riversim.Point(0, 0), 0)\n",
    "branch.vertices[0]\n",
    "len(branch.vertices)\n",
    "branch.addAbsolutePoint(riversim.Point(1, 1), 0)\n",
    "branch.addAbsolutePoint(riversim.Polar(1, 1), 0).vertices[0].y = 1\n",
    "branch.addAbsolutePoint(riversim.Polar(1, 1), 0).vertices[0].y\n",
    "branch.addPoint(riversim.Point(1, 1), 0)\n",
    "branch.addPoint(riversim.Polar(1, 1), 0)\n",
    "branch.tipPoint()\n",
    "branch.tipVector()\n",
    "angle = branch.tipAngle()\n",
    "print(angle)\n",
    "angle = branch.sourceAngle()\n",
    "print(angle)\n",
    "print(branch.lenght())\n",
    "branch.removeTipPoint()\n",
    "branch.shrink(100)\n",
    "len(branch.vertices)\n",
    "print(branch == branch1)"
   ]
  },
  {
   "cell_type": "code",
   "execution_count": 69,
   "metadata": {},
   "outputs": [
    {
     "data": {
      "text/plain": [
       "3"
      ]
     },
     "execution_count": 69,
     "metadata": {},
     "output_type": "execute_result"
    }
   ],
   "source": [
    "boundaries = riversim.Region()\n",
    "\n",
    "sources = boundaries.makeRectangularWithHole(1, 1, 0.25)\n",
    "\n",
    "tree_interface = boundaries.getSourcesIdsPointsAndAngles(sources)\n",
    "\n",
    "tree = riversim.Rivers()\n",
    "tree.initialize(tree_interface)\n",
    "\n",
    "ids = tree.tipBranchesIds()\n",
    "len(ids)"
   ]
  },
  {
   "cell_type": "markdown",
   "metadata": {},
   "source": [
    "## Physmodel"
   ]
  },
  {
   "cell_type": "markdown",
   "metadata": {},
   "source": [
    "### `t_SeriesParameters`"
   ]
  },
  {
   "cell_type": "code",
   "execution_count": 70,
   "metadata": {},
   "outputs": [
    {
     "data": {
      "text/plain": [
       "2.0"
      ]
     },
     "execution_count": 70,
     "metadata": {},
     "output_type": "execute_result"
    }
   ],
   "source": [
    "series_params = riversim.t_SeriesParameters()\n",
    "v2_double = riversim.t_v2_double()\n",
    "v_double = riversim.t_v_double()\n",
    "v_double[:] = [1., 2., 3.]\n",
    "v2_double.append(v_double)\n",
    "series_params[1] = v2_double\n",
    "\n",
    "series_params[1][0][1]"
   ]
  },
  {
   "cell_type": "markdown",
   "metadata": {},
   "source": [
    "### SimulationData"
   ]
  },
  {
   "cell_type": "code",
   "execution_count": 71,
   "metadata": {},
   "outputs": [
    {
     "data": {
      "text/plain": [
       "<riversim.SimulationData at 0x7f4b74c84680>"
      ]
     },
     "execution_count": 71,
     "metadata": {},
     "output_type": "execute_result"
    }
   ],
   "source": [
    "riversim.SimulationData()"
   ]
  },
  {
   "cell_type": "markdown",
   "metadata": {},
   "source": [
    "### BackwardData"
   ]
  },
  {
   "cell_type": "code",
   "execution_count": 72,
   "metadata": {},
   "outputs": [
    {
     "data": {
      "text/plain": [
       "<riversim.BackwardData at 0x7f4b74c84900>"
      ]
     },
     "execution_count": 72,
     "metadata": {},
     "output_type": "execute_result"
    }
   ],
   "source": [
    "riversim.BackwardData()"
   ]
  },
  {
   "cell_type": "markdown",
   "metadata": {},
   "source": [
    "### t_GeometryDiffernceNew"
   ]
  },
  {
   "cell_type": "code",
   "execution_count": 73,
   "metadata": {},
   "outputs": [
    {
     "data": {
      "text/plain": [
       "<riversim.t_GeometryDiffernceNew at 0x7f4b74c289a0>"
      ]
     },
     "execution_count": 73,
     "metadata": {},
     "output_type": "execute_result"
    }
   ],
   "source": [
    "riversim.t_GeometryDiffernceNew()"
   ]
  },
  {
   "cell_type": "markdown",
   "metadata": {},
   "source": [
    "### ProgramOptions"
   ]
  },
  {
   "cell_type": "code",
   "execution_count": 74,
   "metadata": {},
   "outputs": [
    {
     "data": {
      "text/plain": [
       "<riversim.ProgramOptions at 0x7f4b74c28720>"
      ]
     },
     "execution_count": 74,
     "metadata": {},
     "output_type": "execute_result"
    }
   ],
   "source": [
    "riversim.ProgramOptions()"
   ]
  },
  {
   "cell_type": "markdown",
   "metadata": {},
   "source": [
    "### MeshParams"
   ]
  },
  {
   "cell_type": "code",
   "execution_count": 75,
   "metadata": {},
   "outputs": [
    {
     "data": {
      "text/plain": [
       "<riversim.MeshParams at 0x7f4b74c56770>"
      ]
     },
     "execution_count": 75,
     "metadata": {},
     "output_type": "execute_result"
    }
   ],
   "source": [
    "riversim.MeshParams()"
   ]
  },
  {
   "cell_type": "markdown",
   "metadata": {},
   "source": [
    "### IntegrationParams"
   ]
  },
  {
   "cell_type": "code",
   "execution_count": 76,
   "metadata": {},
   "outputs": [
    {
     "data": {
      "text/plain": [
       "<riversim.IntegrationParams at 0x7f4b758c6f40>"
      ]
     },
     "execution_count": 76,
     "metadata": {},
     "output_type": "execute_result"
    }
   ],
   "source": [
    "riversim.IntegrationParams()"
   ]
  },
  {
   "cell_type": "markdown",
   "metadata": {},
   "source": [
    "### SolverParams"
   ]
  },
  {
   "cell_type": "code",
   "execution_count": 77,
   "metadata": {},
   "outputs": [
    {
     "data": {
      "text/plain": [
       "<riversim.SolverParams at 0x7f4b74c845e0>"
      ]
     },
     "execution_count": 77,
     "metadata": {},
     "output_type": "execute_result"
    }
   ],
   "source": [
    "riversim.SolverParams()"
   ]
  },
  {
   "cell_type": "markdown",
   "metadata": {},
   "source": [
    "### Model"
   ]
  },
  {
   "cell_type": "code",
   "execution_count": 78,
   "metadata": {},
   "outputs": [
    {
     "data": {
      "text/plain": [
       "<riversim.Model at 0x7f4b74c56c70>"
      ]
     },
     "execution_count": 78,
     "metadata": {},
     "output_type": "execute_result"
    }
   ],
   "source": [
    "riversim.Model()"
   ]
  },
  {
   "cell_type": "markdown",
   "metadata": {},
   "source": [
    "## Input/Output"
   ]
  },
  {
   "cell_type": "code",
   "execution_count": 79,
   "metadata": {
    "tags": []
   },
   "outputs": [
    {
     "name": "stdout",
     "output_type": "stream",
     "text": [
      "RiverSim 2018\n",
      "None\n",
      "2.8.7\n",
      "None\n",
      "\n",
      "     _)                    _)           \n",
      "  __| |\\ \\   / _ \\  __| __| | __ `__ \\  \n",
      " |    | \\ \\ /  __/ |  \\__ \\ | |   |   | \n",
      "_|   _|  \\_/ \\___|_|  ____/_|_|  _|  _| \n",
      "\n",
      "RiverSim 2018 version: 2.8.7\n"
     ]
    }
   ],
   "source": [
    "print(riversim.programTitle())\n",
    "print(riversim.print_ascii_signature())\n",
    "print(riversim.version_string())\n",
    "print(riversim.print_version())"
   ]
  },
  {
   "cell_type": "code",
   "execution_count": 80,
   "metadata": {},
   "outputs": [
    {
     "name": "stdout",
     "output_type": "stream",
     "text": [
      "\u001b[0m\u001b[01;34mCMakeFiles\u001b[0m/          Makefile          \u001b[01;34mriver\u001b[0m/        simdata.json\n",
      "cmake_install.cmake  \u001b[01;32mmeshgen\u001b[0m*          \u001b[01;32mriversim\u001b[0m*     simdata.msh\n",
      "\u001b[01;32mlibapp.so\u001b[0m*           python_api.ipynb  \u001b[01;32mriversim.so\u001b[0m*\n"
     ]
    }
   ],
   "source": [
    "ls"
   ]
  },
  {
   "cell_type": "code",
   "execution_count": 81,
   "metadata": {
    "tags": []
   },
   "outputs": [
    {
     "name": "stdout",
     "output_type": "stream",
     "text": [
      "some_text.json\n",
      "101.0\n"
     ]
    }
   ],
   "source": [
    "model = riversim.Model()\n",
    "model.ds = 101;\n",
    "model.initializeDirichlet()\n",
    "riversim.save(model, \"some_text\")\n",
    "model2 = riversim.Model()\n",
    "model2.prog_opt.input_file_name = \"some_text.json\"\n",
    "print(model2.prog_opt.input_file_name)\n",
    "riversim.open(model2)\n",
    "print(model2.ds)"
   ]
  },
  {
   "cell_type": "markdown",
   "metadata": {},
   "source": [
    "## Triangle\n",
    "maybe later"
   ]
  },
  {
   "cell_type": "markdown",
   "metadata": {},
   "source": [
    "## Boundary Generator"
   ]
  },
  {
   "cell_type": "code",
   "execution_count": 82,
   "metadata": {},
   "outputs": [
    {
     "data": {
      "text/plain": [
       "23"
      ]
     },
     "execution_count": 82,
     "metadata": {},
     "output_type": "execute_result"
    }
   ],
   "source": [
    "model = riversim.Model()\n",
    "model.initializeDirichlet()\n",
    "model.tree.growTestTree(1, 1, 0.1, 3, 0)\n",
    "simple_boundary = riversim.simpleBoundaryGenerator(model)\n",
    "len(simple_boundary.vertices)"
   ]
  },
  {
   "cell_type": "markdown",
   "metadata": {},
   "source": [
    "## Tethex"
   ]
  },
  {
   "cell_type": "markdown",
   "metadata": {},
   "source": [
    "### `TethexPoint`"
   ]
  },
  {
   "cell_type": "code",
   "execution_count": 83,
   "metadata": {
    "tags": []
   },
   "outputs": [
    {
     "name": "stdout",
     "output_type": "stream",
     "text": [
      "True\n"
     ]
    },
    {
     "data": {
      "text/plain": [
       "10.0"
      ]
     },
     "execution_count": 83,
     "metadata": {},
     "output_type": "execute_result"
    }
   ],
   "source": [
    "p = riversim.TethexPoint(1, 2, 3, 4)\n",
    "p_copy = riversim.TethexPoint(p)\n",
    "print(p == p_copy)\n",
    "p.setCoord(1, 10)\n",
    "p.getCoord(1)"
   ]
  },
  {
   "cell_type": "markdown",
   "metadata": {},
   "source": [
    "### vector of `TethexPoint`"
   ]
  },
  {
   "cell_type": "code",
   "execution_count": 84,
   "metadata": {},
   "outputs": [
    {
     "data": {
      "text/plain": [
       "<riversim.t_Vector_of_TethexPoint at 0x7f4b9554ab80>"
      ]
     },
     "execution_count": 84,
     "metadata": {},
     "output_type": "execute_result"
    }
   ],
   "source": [
    "riversim.t_Vector_of_TethexPoint()"
   ]
  },
  {
   "cell_type": "markdown",
   "metadata": {},
   "source": [
    "### `tethex::Mesh`"
   ]
  },
  {
   "cell_type": "code",
   "execution_count": 85,
   "metadata": {},
   "outputs": [],
   "source": [
    "riversim.TethexMesh()\n",
    "\n",
    "model = riversim.Model()\n",
    "model.initializeDirichlet()\n",
    "simple_boundary = riversim.simpleBoundaryGenerator(model)\n",
    "\n",
    "mesh_boundary = riversim.TethexMesh(simple_boundary)"
   ]
  },
  {
   "cell_type": "markdown",
   "metadata": {},
   "source": [
    "## Triangle\n",
    "port of triangle mesh generation tool"
   ]
  },
  {
   "cell_type": "code",
   "execution_count": 86,
   "metadata": {},
   "outputs": [
    {
     "data": {
      "text/plain": [
       "<riversim.triangulateio at 0x7f4b74baaef0>"
      ]
     },
     "execution_count": 86,
     "metadata": {},
     "output_type": "execute_result"
    }
   ],
   "source": [
    "riversim.triangulateio()"
   ]
  },
  {
   "cell_type": "markdown",
   "metadata": {},
   "source": [
    "## Mesh"
   ]
  },
  {
   "cell_type": "markdown",
   "metadata": {},
   "source": [
    "### `e_triangle_algorithm`"
   ]
  },
  {
   "cell_type": "code",
   "execution_count": null,
   "metadata": {},
   "outputs": [],
   "source": [
    "#riversim.e_triangle_algorithm.CONQUER\n",
    "#riversim.e_triangle_algorithm.FORTUNE\n",
    "#riversim.e_triangle_algorithm.ITERATOR"
   ]
  },
  {
   "cell_type": "markdown",
   "metadata": {},
   "source": [
    "### `Triangle`"
   ]
  },
  {
   "cell_type": "code",
   "execution_count": 87,
   "metadata": {},
   "outputs": [],
   "source": [
    "model = riversim.Model()\n",
    "model.initializeDirichlet()\n",
    "simple_boundary = riversim.simpleBoundaryGenerator(model)\n",
    "\n",
    "mesh_boundary = riversim.TethexMesh(simple_boundary)\n",
    "mesh_boundary.write(\"test_boundary.msh\")\n",
    "\n",
    "triangle = riversim.Triangle(model.mesh)\n",
    "triangle.generate(mesh_boundary)\n",
    "mesh_boundary.write(\"test_triangular.msh\")\n",
    "mesh_boundary.convert()\n",
    "mesh_boundary.write(\"test_quadrangular.msh\")"
   ]
  },
  {
   "cell_type": "markdown",
   "metadata": {},
   "source": [
    "## Solver"
   ]
  },
  {
   "cell_type": "code",
   "execution_count": 88,
   "metadata": {
    "tags": []
   },
   "outputs": [
    {
     "name": "stdout",
     "output_type": "stream",
     "text": [
      "adaptive mesh solver cycle-#0---------------------------\n",
      "   Number of active cells:\n",
      "\t21\n",
      "   Number of degrees of freedom:\n",
      "\t211\n",
      "adaptive mesh solver cycle-#1---------------------------\n",
      "   Number of active cells:\n",
      "\t27\n",
      "   Number of degrees of freedom:\n",
      "\t282\n",
      "adaptive mesh solver cycle-#2---------------------------\n",
      "   Number of active cells:\n",
      "\t33\n",
      "   Number of degrees of freedom:\n",
      "\t346\n",
      "nan\n",
      "nan\n",
      "nan\n",
      "nans are becouse of very rare mesh\n"
     ]
    }
   ],
   "source": [
    "model = riversim.Model()\n",
    "model.initializeDirichlet()\n",
    "simple_boundary = riversim.simpleBoundaryGenerator(model)\n",
    "\n",
    "mesh_boundary = riversim.TethexMesh(simple_boundary)\n",
    "\n",
    "triangle = riversim.Triangle(model.mesh)\n",
    "triangle.generate(mesh_boundary)\n",
    "mesh_boundary.convert()\n",
    "mesh_boundary.write(\"test_quadrangular.msh\")\n",
    "\n",
    "solver = riversim.Solver(model)\n",
    "solver.openMesh(\"test_quadrangular.msh\")\n",
    "solver.run()\n",
    "solver.outputResults(\"res\")\n",
    "params = solver.integrate(model, riversim.Point(0.25, 0), 0)\n",
    "print(params[0])\n",
    "print(params[1])\n",
    "print(params[2])\n",
    "print('nans are becouse of very rare mesh')"
   ]
  },
  {
   "cell_type": "markdown",
   "metadata": {},
   "source": [
    "## Riversim"
   ]
  },
  {
   "cell_type": "code",
   "execution_count": 89,
   "metadata": {},
   "outputs": [
    {
     "name": "stdout",
     "output_type": "stream",
     "text": [
      "----------------------------------------#0----------------------------------------\n",
      "Boundary generation...\n",
      "Mesh generation...\n",
      "Solving...\n",
      "adaptive mesh solver cycle-#0---------------------------\n",
      "   Number of active cells:\n",
      "\t210\n",
      "   Number of degrees of freedom:\n",
      "\t1993\n",
      "adaptive mesh solver cycle-#1---------------------------\n",
      "   Number of active cells:\n",
      "\t273\n",
      "   Number of degrees of freedom:\n",
      "\t2620\n",
      "adaptive mesh solver cycle-#2---------------------------\n",
      "   Number of active cells:\n",
      "\t354\n",
      "   Number of degrees of freedom:\n",
      "\t3480\n",
      "Series parameters integration...\n",
      "Rivers growth...\n",
      "a1 = 0.0187814, growth threshold = 0\n",
      " branch_lenght = 0, bifurcation_min_dist = 0.05\n",
      "a3/a1 = 104.518, bif thr = -0.1\n"
     ]
    }
   ],
   "source": [
    "model = riversim.Model()\n",
    "model.initializeDirichlet()\n",
    "model.prog_opt.number_of_steps = 1\n",
    "\n",
    "triangle = riversim.Triangle(model.mesh)\n",
    "\n",
    "solver = riversim.Solver(model)\n",
    "\n",
    "forward_river_simulation = riversim.ForwardRiverSimulation(model, triangle, solver)\n",
    "forward_river_simulation.linearSolver()"
   ]
  },
  {
   "cell_type": "markdown",
   "metadata": {},
   "source": [
    "## App"
   ]
  },
  {
   "cell_type": "code",
   "execution_count": null,
   "metadata": {},
   "outputs": [],
   "source": [
    "#app = riversim.App()"
   ]
  }
 ],
 "metadata": {
  "interpreter": {
   "hash": "916dbcbb3f70747c44a77c7bcd40155683ae19c65e1c03b4aa3499c5328201f1"
  },
  "kernelspec": {
   "display_name": "Python 3.8.2 64-bit",
   "language": "python",
   "name": "python3"
  },
  "language_info": {
   "codemirror_mode": {
    "name": "ipython",
    "version": 3
   },
   "file_extension": ".py",
   "mimetype": "text/x-python",
   "name": "python",
   "nbconvert_exporter": "python",
   "pygments_lexer": "ipython3",
   "version": "3.8.10"
  },
  "orig_nbformat": 2
 },
 "nbformat": 4,
 "nbformat_minor": 2
}
