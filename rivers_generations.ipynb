{
 "cells": [
  {
   "cell_type": "markdown",
   "metadata": {},
   "source": [
    "# Генерація дерев"
   ]
  },
  {
   "cell_type": "markdown",
   "metadata": {},
   "source": [
    "- Умови діріхлет із нулем на всіх границях\n",
    "    - Прикладове дерево, котре генерувалося 8 годин\n",
    "    - Такі самі дерева, в геометрії 1 на 1 і dx змінюємо від 0 до 1 із якимись кроком\n",
    "    - Такі самі дерева, в геометрії 4 на 4 і dx змінюємо від 0 до 4 із якимись кроком\n",
    "    - Такі самі дерева, в геометрії 4 на 20 і dx змінюємо від 0 до 4 із якимисьм кроком\n",
    "    - Кругла геометрія із діаметром 2.\n",
    "    - Кругла геометрія із діаметром 5.\n",
    " - Умови діріхлета, але з вільними умовами на границі\n",
    " - Умови лапласа\n",
    " - Для різних значеннь тета\n",
    " - Для різних значеннь порогу біфуркації\n",
    " - І все те саме тільки для статистичної біфуркації.\n",
    "\n",
    " Сумарно виходить десь біля 100 різних симуляцій..\n",
    "\n",
    " Візьмемо параметри із 8годинної моделі, оскільки я їх обговорював із Петром:\n",
    "\n",
    " - мінімальна відстань біфуркації - 0.01. Але це значення було все ж за великим, адже не гістограмі було видно, що в якийсь момент воно вперлося в цю межу. тому візьмемо 0.005.\n",
    " - крок симуляції теж візьмемо 0.005\n",
    " - мінімальну відстань росту так само 0.005\n",
    "\n",
    " тепер, що до інших чисельних параметрів:\n",
    " - квадратура може нехай буде 4и. \n",
    " - додамо все ж одну адптацію сітки.\n",
    "\n",
    " Чисельні параметри сітки:\n",
    " - довжина ігнорування згладження - 0.02\n",
    " - кут згладження - 0.2\n"
   ]
  },
  {
   "cell_type": "code",
   "execution_count": 1,
   "metadata": {},
   "outputs": [
    {
     "ename": "SyntaxError",
     "evalue": "unexpected character after line continuation character (riversimdefs.py, line 77)",
     "output_type": "error",
     "traceback": [
      "Traceback \u001b[0;36m(most recent call last)\u001b[0m:\n",
      "  File \u001b[1;32m~/.local/lib/python3.8/site-packages/IPython/core/interactiveshell.py:3251\u001b[0m in \u001b[1;35mrun_code\u001b[0m\n    exec(code_obj, self.user_global_ns, self.user_ns)\n",
      "\u001b[0;36m  Input \u001b[0;32mIn [1]\u001b[0;36m in \u001b[0;35m<module>\u001b[0;36m\u001b[0m\n\u001b[0;31m    import riversimdefs as rs\u001b[0m\n",
      "\u001b[0;36m  File \u001b[0;32m~/Documents/riversimpy/riversimdefs.py:77\u001b[0;36m\u001b[0m\n\u001b[0;31m    \"all_steps_time\" : time.time(), \\\u001b[0m\n\u001b[0m                                      \n^\u001b[0m\n\u001b[0;31mSyntaxError\u001b[0m\u001b[0;31m:\u001b[0m unexpected character after line continuation character\n"
     ]
    }
   ],
   "source": [
    "import riversimdefs as rs"
   ]
  },
  {
   "cell_type": "markdown",
   "metadata": {},
   "source": [
    "## Умови діріхлет із нулем на всіх границях"
   ]
  },
  {
   "cell_type": "markdown",
   "metadata": {},
   "source": [
    "### Дерева в геометрії 1 на 1 і dx змінюємо від 0 до 1 із достатньо малим кроком"
   ]
  },
  {
   "cell_type": "code",
   "execution_count": null,
   "metadata": {},
   "outputs": [
    {
     "name": "stdout",
     "output_type": "stream",
     "text": [
      "110\n",
      "120\n",
      "130\n"
     ]
    },
    {
     "ename": "",
     "evalue": "",
     "output_type": "error",
     "traceback": [
      "\u001b[1;31mCanceled future for execute_request message before replies were done"
     ]
    },
    {
     "ename": "",
     "evalue": "",
     "output_type": "error",
     "traceback": [
      "\u001b[1;31mThe Kernel crashed while executing code in the the current cell or a previous cell. Please review the code in the cell(s) to identify a possible cause of the failure. Click <a href='https://aka.ms/vscodeJupyterKernelCrash'>here</a> for more info. View Jupyter <a href='command:jupyter.viewOutput'>log</a> for further details."
     ]
    }
   ],
   "source": [
    "import numpy as np\n",
    "\n",
    "model = rs.Model()\n",
    "\n",
    "name_prefix = \"test_rivers_generation__dirichlet\"\n",
    "\n",
    "model.growth_type = 1\n",
    "#model.growth_min_distance = 0.005\n",
    "#model.growth_threshold = 0.0001\n",
    "model.mesh_params.ignored_smoothness_length = 0\n",
    "model.mesh_params.smoothness_degree = 0\n",
    "#model.solver_params.adaptive_refinment_steps = 1\n",
    "#model.solver_params.quadrature_degree = 4\n",
    "\n",
    "model.number_of_steps = 150\n",
    "\n",
    "#model.ds = 0.005\n",
    "#model.bifurcation_min_dist = 0.005\n",
    "#model.width = 1.\n",
    "#model.height = 1.\n",
    "#model.eta = 1.\n",
    "\n",
    "for model.dx in np.arange(model.integr_params.integration_radius, model.width / 2., (model.width / 2. -model.integr_params.integration_radius) / 5.):\n",
    "    print(\"dx = \" + str(model.dx))\n",
    "    model.initializeDirichlet()\n",
    "    model.rivers[1].addPoint(rs.Polar(model.integr_params.integration_radius, 0), model.region_params.river_boundary_id)\n",
    "    rs.growRiver(model, plot_period = 50)\n",
    "    rs.save(model, name_prefix + \"__width=\" + str(model.width) + \"__heigth=\" + str(model.height) + \"__ds=\"+str(model.ds) + \"__bifurcation_min_dist=\" + str(model.bifurcation_min_dist) + \"__eta=\" + str(model.eta) + \"__dx=\" + str(model.dx) + \".json\")"
   ]
  }
 ],
 "metadata": {
  "kernelspec": {
   "display_name": "Python 3.8.10 64-bit",
   "language": "python",
   "name": "python3"
  },
  "language_info": {
   "codemirror_mode": {
    "name": "ipython",
    "version": 3
   },
   "file_extension": ".py",
   "mimetype": "text/x-python",
   "name": "python",
   "nbconvert_exporter": "python",
   "pygments_lexer": "ipython3",
   "version": "3.8.10"
  },
  "orig_nbformat": 4,
  "vscode": {
   "interpreter": {
    "hash": "916dbcbb3f70747c44a77c7bcd40155683ae19c65e1c03b4aa3499c5328201f1"
   }
  }
 },
 "nbformat": 4,
 "nbformat_minor": 2
}
