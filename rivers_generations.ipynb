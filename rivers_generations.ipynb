{
 "cells": [
  {
   "cell_type": "markdown",
   "metadata": {},
   "source": [
    "# Генерація дерев"
   ]
  },
  {
   "cell_type": "markdown",
   "metadata": {},
   "source": [
    "- Умови діріхлет із нулем на всіх границях\n",
    "    - Прикладове дерево, котре генерувалося 8 годин\n",
    "    - Такі самі дерева, в геометрії 1 на 1 і dx змінюємо від 0 до 1 із якимись кроком\n",
    "    - Такі самі дерева, в геометрії 4 на 4 і dx змінюємо від 0 до 4 із якимись кроком\n",
    "    - Такі самі дерева, в геометрії 4 на 20 і dx змінюємо від 0 до 4 із якимисьм кроком\n",
    "    - Кругла геометрія із діаметром 2.\n",
    "    - Кругла геометрія із діаметром 5.\n",
    " - Умови діріхлета, але з вільними умовами на границі\n",
    " - Умови лапласа\n",
    " - Для різних значеннь тета\n",
    " - Для різних значеннь порогу біфуркації\n",
    " - І все те саме тільки для статистичної біфуркації.\n",
    "\n",
    " Сумарно виходить десь біля 100 різних симуляцій..\n",
    "\n",
    " Візьмемо параметри із 8годинної моделі, оскільки я їх обговорював із Петром:\n",
    "\n",
    " - мінімальна відстань біфуркації - 0.01. Але це значення було все ж за великим, адже не гістограмі було видно, що в якийсь момент воно вперлося в цю межу. тому візьмемо 0.005.\n",
    " - крок симуляції теж візьмемо 0.005\n",
    " - мінімальну відстань росту так само 0.005\n",
    "\n",
    " тепер, що до інших чисельних параметрів:\n",
    " - квадратура може нехай буде 4и. \n",
    " - додамо все ж одну адптацію сітки.\n",
    "\n",
    " Чисельні параметри сітки:\n",
    " - довжина ігнорування згладження - 0.02\n",
    " - кут згладження - 0.2\n"
   ]
  },
  {
   "cell_type": "markdown",
   "metadata": {},
   "source": [
    "## Функції"
   ]
  },
  {
   "cell_type": "markdown",
   "metadata": {},
   "source": [
    "### Симуляція і візуалізація"
   ]
  },
  {
   "cell_type": "code",
   "execution_count": 4,
   "metadata": {},
   "outputs": [],
   "source": [
    "from IPython.display import display, clear_output\n",
    "import matplotlib.pyplot as plt\n",
    "\n",
    "def plot(fig, ax, model, figsize = [40, 40]):\n",
    "\n",
    "    ax.set_aspect('equal')\n",
    "\n",
    "    plt.rcParams['figure.figsize'] = figsize\n",
    "    \n",
    "    ax.cla()\n",
    "\n",
    "    xmin = 0\n",
    "    xmax = 0\n",
    "    ymin = 0\n",
    "    ymax = 0\n",
    "\n",
    "    for river_pr in model.rivers:\n",
    "        x = ([v.x for v in river_pr.data().vertices])\n",
    "        y = ([v.y for v in river_pr.data().vertices])\n",
    "        ax.plot(x, y)\n",
    "        if min(x) < xmin:\n",
    "            xmin = min(x)\n",
    "        if max(x) > xmax:\n",
    "            xmax = max(x)\n",
    "        if min(y) < ymin:\n",
    "            ymin = min(y)\n",
    "        if max(y) > ymax:\n",
    "            ymax = max(y)\n",
    "\n",
    "    \n",
    "    for boundary_pr in model.region:\n",
    "        x = ([v.x for v in boundary_pr.data().vertices])\n",
    "        y = ([v.y for v in boundary_pr.data().vertices])\n",
    "        x.append(boundary_pr.data().vertices[0].x)\n",
    "        y.append(boundary_pr.data().vertices[0].y)\n",
    "        if min(x) < xmin:\n",
    "            xmin = min(x)\n",
    "        if max(x) > xmax:\n",
    "            xmax = max(x)\n",
    "        if min(y) < ymin:\n",
    "            ymin = min(y)\n",
    "        if max(y) > ymax:\n",
    "            ymax = max(y)\n",
    "        ax.plot(x, y)\n",
    "\n",
    "    ax.set_xlim(xmin - 0.1, xmax + 0.1)\n",
    "    ax.set_ylim(ymin - 0.1, ymax + 0.1)\n",
    "    #plt.xlim(xmin - 0.1, xmax + 0.1)\n",
    "    #plt.ylim(ymin - 0.1, ymax + 0.1)\n",
    "    #plt.show()\n",
    "    display(fig)\n",
    "    clear_output(wait = True)\n",
    "    #plt.pause(0.001)\n",
    "\n",
    "import riversim as rs\n",
    "\n",
    "def growRiver(m, plot_period = 50):\n",
    "\n",
    "    solver = rs.Solver(m.solver_params, verbose=False)\n",
    "    triangle = rs.Triangle(m.mesh_params)\n",
    "    mesh = rs.TethexMesh()\n",
    "\n",
    "    fig = plt.figure()\n",
    "    ax = fig.add_subplot(1, 1, 1)\n",
    "\n",
    "    dynamic_river_ids = m.rivers.tipBranchesIds()\n",
    "\n",
    "    for i in range(m.number_of_steps):\n",
    "        if i % 10 == 0:\n",
    "            print(i)\n",
    "        # boundary generation: Combines boundary and river \n",
    "        # geometry into one(or several) closed boundary lines\n",
    "        m.boundary = rs.BoundaryGenerator(\\\n",
    "            m.sources, \\\n",
    "            m.region, \\\n",
    "            m.rivers, \\\n",
    "            m.river_width, \\\n",
    "            m.mesh_params.smoothness_degree, \\\n",
    "            m.mesh_params.ignored_smoothness_length)\n",
    "    \n",
    "        # mesh will be refined aroud growing tip points\n",
    "        tip_points = rs.t_PointList()\n",
    "        for id in dynamic_river_ids:\n",
    "            tip_points.append(m.rivers[id].tipPoint())\n",
    "        triangle.mesh_params.tip_points = tip_points\n",
    "        mesh = triangle.generate(m.boundary, m.region.holes)\n",
    "    \n",
    "        # reset solver values\n",
    "        # solver.clear() lets try without it\n",
    "        solver.openMesh(mesh)\n",
    "    \n",
    "        for j in range(m.solver_params.adaptive_refinment_steps + 1):\n",
    "            if j > 0:\n",
    "                solver.refineGrid()\n",
    "            solver.setupSystem()\n",
    "            solver.assembleSystem(m.boundary_conditions)\n",
    "            solver.solve()\n",
    "    \n",
    "        #series parameters evaluation\n",
    "        id_series_params = rs.t_ids_series_params()\n",
    "        max_a1 = 0\n",
    "        for id in dynamic_river_ids:\n",
    "            tip_point = m.rivers[id].tipPoint()\n",
    "            tip_angle = m.rivers[id].tipAngle()\n",
    "            id_series_params[id] = solver.integrate_new(m.integr_params, tip_point, tip_angle)\n",
    "            if id_series_params[id][0] > max_a1:\n",
    "                max_a1 = id_series_params[id][0]\n",
    "    \n",
    "        for id_series_param in id_series_params:\n",
    "            id = id_series_param.key()\n",
    "            series_param = id_series_param.data()\n",
    "            if m.qGrowth(series_param):\n",
    "                l = m.rivers[id].lenght()\n",
    "                if m.qBifurcate(series_param, l):\n",
    "                    tip_point = m.rivers[id].tipPoint()\n",
    "                    tip_angle = m.rivers[id].tipAngle()\n",
    "                    br_left = rs.Branch(tip_point, tip_angle + m.bifurcation_angle)\n",
    "                    br_left.addPoint(rs.Polar(m.ds, 0), m.river_boundary_id)\n",
    "                    br_right = rs.Branch(tip_point, tip_angle - m.bifurcation_angle)\n",
    "                    br_right.addPoint(rs.Polar(m.ds, 0), m.river_boundary_id)\n",
    "                    ids = m.rivers.addSubBranches(id, br_left, br_right)\n",
    "\n",
    "                    # add new branches\n",
    "                    dynamic_river_ids.append(ids.left)\n",
    "                    dynamic_river_ids.append(ids.right)\n",
    "                    \n",
    "                    # and remove parent from growth evaluation\n",
    "                    for f in range(len(dynamic_river_ids)):\n",
    "                        if dynamic_river_ids[f] == id:\n",
    "                            del dynamic_river_ids[f]\n",
    "                            break\n",
    "                else: \n",
    "                    m.rivers[id].addPoint(\\\n",
    "                        m.nextPoint(series_param, l, max_a1),\\\n",
    "                        m.river_boundary_id)\n",
    "            else:\n",
    "                # remove river from growth evaluation\n",
    "                for f in range(len(dynamic_river_ids)):\n",
    "                    if dynamic_river_ids[f] == id:\n",
    "                        del dynamic_river_ids[f]\n",
    "                        break\n",
    "        if i % plot_period == 0:\n",
    "            plot(fig, ax, m)\n",
    "\n",
    "        # nothing to grow\n",
    "        if not dynamic_river_ids:\n",
    "            break"
   ]
  },
  {
   "cell_type": "markdown",
   "metadata": {},
   "source": [
    "## Умови діріхлет із нулем на всіх границях"
   ]
  },
  {
   "cell_type": "markdown",
   "metadata": {},
   "source": [
    "### Дерева в геометрії 1 на 1 і dx змінюємо від 0 до 1 із достатньо малим кроком"
   ]
  },
  {
   "cell_type": "code",
   "execution_count": 5,
   "metadata": {},
   "outputs": [],
   "source": [
    "model = rs.Model()"
   ]
  },
  {
   "cell_type": "code",
   "execution_count": 6,
   "metadata": {},
   "outputs": [
    {
     "data": {
      "text/plain": [
       "0.03"
      ]
     },
     "execution_count": 6,
     "metadata": {},
     "output_type": "execute_result"
    }
   ],
   "source": [
    "model.integr_params.integration_radius"
   ]
  },
  {
   "cell_type": "code",
   "execution_count": 11,
   "metadata": {},
   "outputs": [
    {
     "data": {
      "text/plain": [
       "0.094"
      ]
     },
     "execution_count": 11,
     "metadata": {},
     "output_type": "execute_result"
    }
   ],
   "source": [
    "(0.5 - 0.03) / 5"
   ]
  },
  {
   "cell_type": "code",
   "execution_count": 12,
   "metadata": {},
   "outputs": [
    {
     "name": "stdout",
     "output_type": "stream",
     "text": [
      "10\n"
     ]
    }
   ],
   "source": [
    "import numpy as np\n",
    "\n",
    "model = rs.Model()\n",
    "\n",
    "model.growth_min_distance = 0.005\n",
    "model.growth_threshold = 0.0001\n",
    "model.mesh_params.ignored_smoothness_length = 0.02\n",
    "model.mesh_params.smoothness_degree = 0.2\n",
    "model.solver_params.adaptive_refinment_steps = 1\n",
    "model.solver_params.quadrature_degree = 4\n",
    "\n",
    "model.number_of_steps = 150\n",
    "\n",
    "model.ds = 0.005\n",
    "model.bifurcation_min_dist = 0.005\n",
    "model.width = 1.\n",
    "model.height = 1.\n",
    "model.eta = 1.\n",
    "\n",
    "for model.dx in np.arange(model.integr_params.integration_radius, model.width / 2., (model.width / 2. -model.integr_params.integration_radius) / 5.):\n",
    "    model.initializeDirichlet()\n",
    "    model.rivers[1].addPoint(rs.Polar(model.integr_params.integration_radius, 0), model.river_boundary_id)\n",
    "    growRiver(model, plot_period = 50)\n",
    "    rs.save(model, \"rivers_generation__dirichlet__width=\" + str(model.width) + \"__heigth=\" + str(model.height) + \"__ds=\"+str(model.ds) + \"__bifurcation_min_dist=\" + str(model.bifurcation_min_dist) + \"__eta=\" + str(model.eta) + \"__dx=\" + str(model.dx))"
   ]
  },
  {
   "cell_type": "code",
   "execution_count": 7,
   "metadata": {},
   "outputs": [
    {
     "ename": "RuntimeError",
     "evalue": "[json.exception.out_of_range.401] array index 1 is out of range",
     "output_type": "error",
     "traceback": [
      "\u001b[0;31m---------------------------------------------------------------------------\u001b[0m",
      "\u001b[0;31mRuntimeError\u001b[0m                              Traceback (most recent call last)",
      "\u001b[1;32m/home/oleg/Documents/riversim/riversimpy/rivers_generations.ipynb Cell 12\u001b[0m in \u001b[0;36m<module>\u001b[0;34m\u001b[0m\n\u001b[1;32m      <a href='vscode-notebook-cell://ssh-remote%2B7b22686f73744e616d65223a22557273612d4d616a6f72227d/home/oleg/Documents/riversim/riversimpy/rivers_generations.ipynb#ch0000011vscode-remote?line=0'>1</a>\u001b[0m \u001b[39mimport\u001b[39;00m \u001b[39mriversim\u001b[39;00m \u001b[39mas\u001b[39;00m \u001b[39mrs\u001b[39;00m\n\u001b[1;32m      <a href='vscode-notebook-cell://ssh-remote%2B7b22686f73744e616d65223a22557273612d4d616a6f72227d/home/oleg/Documents/riversim/riversimpy/rivers_generations.ipynb#ch0000011vscode-remote?line=1'>2</a>\u001b[0m mdl_1 \u001b[39m=\u001b[39m rs\u001b[39m.\u001b[39mModel()\n\u001b[0;32m----> <a href='vscode-notebook-cell://ssh-remote%2B7b22686f73744e616d65223a22557273612d4d616a6f72227d/home/oleg/Documents/riversim/riversimpy/rivers_generations.ipynb#ch0000011vscode-remote?line=2'>3</a>\u001b[0m rs\u001b[39m.\u001b[39;49mopen(mdl_1, \u001b[39m\"\u001b[39;49m\u001b[39mrivers_generation__dirichlet__width=1.0__heigth=1.0__ds=0.005__bifurcation_min_dist=0.005__eta=1.0__dx=0.03.json.json\u001b[39;49m\u001b[39m\"\u001b[39;49m)\n",
      "\u001b[0;31mRuntimeError\u001b[0m: [json.exception.out_of_range.401] array index 1 is out of range"
     ]
    }
   ],
   "source": [
    "import riversim as rs\n",
    "mdl_1 = rs.Model()\n",
    "rs.open(mdl_1, \"rivers_generation__dirichlet__width=1.0__heigth=1.0__ds=0.005__bifurcation_min_dist=0.005__eta=1.0__dx=0.03.json.json\")"
   ]
  },
  {
   "cell_type": "code",
   "execution_count": null,
   "metadata": {},
   "outputs": [],
   "source": []
  }
 ],
 "metadata": {
  "kernelspec": {
   "display_name": "Python 3.8.10 64-bit",
   "language": "python",
   "name": "python3"
  },
  "language_info": {
   "codemirror_mode": {
    "name": "ipython",
    "version": 3
   },
   "file_extension": ".py",
   "mimetype": "text/x-python",
   "name": "python",
   "nbconvert_exporter": "python",
   "pygments_lexer": "ipython3",
   "version": "3.8.10"
  },
  "orig_nbformat": 4,
  "vscode": {
   "interpreter": {
    "hash": "916dbcbb3f70747c44a77c7bcd40155683ae19c65e1c03b4aa3499c5328201f1"
   }
  }
 },
 "nbformat": 4,
 "nbformat_minor": 2
}
