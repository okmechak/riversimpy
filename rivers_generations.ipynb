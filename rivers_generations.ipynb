{
 "cells": [
  {
   "cell_type": "markdown",
   "metadata": {},
   "source": [
    "# Генерація дерев"
   ]
  },
  {
   "cell_type": "markdown",
   "metadata": {},
   "source": [
    "- Умови діріхлет із нулем на всіх границях\n",
    "    - Прикладове дерево, котре генерувалося 8 годин\n",
    "    - Такі самі дерева, в геометрії 1 на 1 і dx змінюємо від 0 до 1 із якимись кроком\n",
    "    - Такі самі дерева, в геометрії 4 на 4 і dx змінюємо від 0 до 4 із якимись кроком\n",
    "    - Такі самі дерева, в геометрії 4 на 20 і dx змінюємо від 0 до 4 із якимисьм кроком\n",
    "    - Кругла геометрія із діаметром 2.\n",
    "    - Кругла геометрія із діаметром 5.\n",
    " - Умови діріхлета, але з вільними умовами на границі\n",
    " - Умови лапласа\n",
    " - Для різних значеннь тета\n",
    " - Для різних значеннь порогу біфуркації\n",
    " - І все те саме тільки для статистичної біфуркації.\n",
    "\n",
    " Сумарно виходить десь біля 100 різних симуляцій..\n",
    "\n",
    " Візьмемо параметри із 8годинної моделі, оскільки я їх обговорював із Петром:\n",
    "\n",
    " - мінімальна відстань біфуркації - 0.01. Але це значення було все ж за великим, адже не гістограмі було видно, що в якийсь момент воно вперлося в цю межу. тому візьмемо 0.005.\n",
    " - крок симуляції теж візьмемо 0.005\n",
    " - мінімальну відстань росту так само 0.005\n",
    "\n",
    " тепер, що до інших чисельних параметрів:\n",
    " - квадратура може нехай буде 4и. \n",
    " - додамо все ж одну адптацію сітки.\n",
    "\n",
    " Чисельні параметри сітки:\n",
    " - довжина ігнорування згладження - 0.02\n",
    " - кут згладження - 0.2\n"
   ]
  },
  {
   "cell_type": "code",
   "execution_count": null,
   "metadata": {},
   "outputs": [],
   "source": [
    "import riversimdefs as rs"
   ]
  },
  {
   "cell_type": "markdown",
   "metadata": {},
   "source": [
    "## Умови діріхлет із нулем на всіх границях"
   ]
  },
  {
   "cell_type": "markdown",
   "metadata": {},
   "source": [
    "### Дерева в геометрії 1 на 1 і dx змінюємо від 0 до 1 із достатньо малим кроком"
   ]
  },
  {
   "cell_type": "code",
   "execution_count": 1,
   "metadata": {},
   "outputs": [
    {
     "name": "stdout",
     "output_type": "stream",
     "text": [
      "basic_combinations__boundary_cond=dirichlet__width=1.0__heigth=1.0__ds=0.01__bifurcation_min_dist=0.05__eta=0.0__dx=0.03__bifurcation_threshold=-0.2\n",
      "0\n",
      "10\n",
      "20\n",
      "30\n",
      "40\n"
     ]
    }
   ],
   "source": [
    "import riversimdefs as rs\n",
    "import numpy as np\n",
    "\n",
    "model = rs.Model()\n",
    "\n",
    "name_prefix = \"basic_combinations\"\n",
    "model.growth_type = 1\n",
    "model.growth_threshold = 0.0005#0.0001\n",
    "model.mesh_params.ignored_smoothness_length = 0.01\n",
    "model.mesh_params.smoothness_degree = 0.1\n",
    "model.solver_params.adaptive_refinment_steps = 0#1\n",
    "model.solver_params.quadrature_degree = 3#4\n",
    "\n",
    "model.number_of_steps = 400\n",
    "model.ds = 0.01#0.007\n",
    "\n",
    "outputs = {}\n",
    "ddx = (model.width / 2. -model.integr_params.integration_radius) / 3.\n",
    "for model.dx in np.arange(model.integr_params.integration_radius, model.width / 2., ddx):\n",
    "    for model.bifurcation_threshold in np.arange(-0.2, 0.2, 0.2):\n",
    "        for model.eta in np.arange(0., 2., 0.5):\n",
    "            for model.width in [1., 5., 20.]:\n",
    "                for boundary_cond_type in [\"dirichlet\", \"laplacea\"]:\n",
    "                    key = name_prefix +\"__boundary_cond=\" + boundary_cond_type + \"__width=\" + str(model.width) + \"__heigth=\" + str(model.height) + \"__ds=\"+str(model.ds) + \"__bifurcation_min_dist=\" + str(model.bifurcation_min_dist) + \"__eta=\" + str(model.eta) + \"__dx=\" + str(model.dx) + \"__bifurcation_threshold=\" + str(model.bifurcation_threshold)\n",
    "                    print(key)\n",
    "\n",
    "                    model.height = model.width\n",
    "                    if boundary_cond_type == \"dirichlet\":\n",
    "                        model.initializeDirichlet()\n",
    "                    elif boundary_cond_type == \"laplacea\":\n",
    "                        model.initializeLaplacea()\n",
    "                    model.rivers[1].addPoint(rs.Polar(model.integr_params.integration_radius, 0), model.region_params.river_boundary_id)\n",
    "                    try:\n",
    "                        outputs[key] = rs.growRiver(model, plot_period = 50, debug = False)\n",
    "                    except:\n",
    "                        print(\"catched error.\")\n",
    "                        break\n",
    "\n",
    "                    rs.save(model, key + \".json\")"
   ]
  },
  {
   "cell_type": "code",
   "execution_count": null,
   "metadata": {},
   "outputs": [
    {
     "name": "stdout",
     "output_type": "stream",
     "text": [
      "1200\n",
      "270\n"
     ]
    }
   ],
   "source": [
    "print(3*3*5*3*2)"
   ]
  },
  {
   "cell_type": "code",
   "execution_count": 6,
   "metadata": {},
   "outputs": [
    {
     "name": "stdout",
     "output_type": "stream",
     "text": [
      "new_integr_radius_0.01weight_rad_0.01\n",
      "0\n",
      "10\n",
      "new_integr_radius_0.01weight_rad_0.04\n",
      "0\n",
      "10\n",
      "20\n",
      "new_integr_radius_0.01weight_rad_0.06999999999999999\n",
      "0\n",
      "10\n"
     ]
    }
   ],
   "source": [
    "import riversimdefs as rs\n",
    "import numpy as np\n",
    "\n",
    "model = rs.Model()\n",
    "\n",
    "model.growth_type = 1\n",
    "#model.growth_min_distance = 0.005\n",
    "#model.growth_threshold = 0.0001\n",
    "model.mesh_params.ignored_smoothness_length = 0\n",
    "model.mesh_params.smoothness_degree = 0.01\n",
    "#model.solver_params.adaptive_refinment_steps = 1\n",
    "#model.solver_params.quadrature_degree = 4\n",
    "\n",
    "model.number_of_steps = 240\n",
    "\n",
    "#model.ds = 0.005\n",
    "#model.bifurcation_min_dist = 0.005\n",
    "#model.width = 1.\n",
    "#model.height = 1.\n",
    "#model.eta = 1.\n",
    "\n",
    "outputs = {}\n",
    "for model.integr_params.integration_radius in np.arange(0.01, 0.1, 0.03):\n",
    "    for model.integr_params.weigth_func_radius in np.arange(0.01, 0.1, 0.03):\n",
    "        key = \"new_integr_radius_\" + str(model.integr_params.integration_radius) + \"weight_rad_\" + str(model.integr_params.weigth_func_radius)\n",
    "        print(key)\n",
    "\n",
    "        model.initializeDirichlet()\n",
    "        model.rivers[1].addPoint(rs.Polar(model.integr_params.integration_radius, 0), model.region_params.river_boundary_id)\n",
    "        try:\n",
    "            outputs[key] = rs.growRiver(model, plot_period = 25, debug = False)\n",
    "        except:\n",
    "            print(\"catched error.\")\n",
    "            break\n",
    "    \n",
    "        rs.save(model, key + \".json\")"
   ]
  },
  {
   "cell_type": "code",
   "execution_count": 1,
   "metadata": {},
   "outputs": [
    {
     "name": "stdout",
     "output_type": "stream",
     "text": [
      "0\n"
     ]
    }
   ],
   "source": [
    "import riversimdefs as rs\n",
    "\n",
    "model = rs.Model()\n",
    "rs.open(model, \"debug 210.json\")\n",
    "model.rivers.removeTipPoints()\n",
    "rs.plot(model, plot_limits=[0.6, 0.7, 0.6, 0.7])\n",
    "\n",
    "boundary = rs.BoundaryGenerator(model.sources, model.region, model.rivers, model.region_params)\n",
    "\n",
    "rs.NumOfBoundaryIntersection(boundary, model.rivers.tipBoundary())\n",
    "model.number_of_steps = 2\n",
    "rs.growRiver(model)"
   ]
  }
 ],
 "metadata": {
  "kernelspec": {
   "display_name": "Python 3.8.10 64-bit",
   "language": "python",
   "name": "python3"
  },
  "language_info": {
   "codemirror_mode": {
    "name": "ipython",
    "version": 3
   },
   "file_extension": ".py",
   "mimetype": "text/x-python",
   "name": "python",
   "nbconvert_exporter": "python",
   "pygments_lexer": "ipython3",
   "version": "3.8.10"
  },
  "orig_nbformat": 4,
  "vscode": {
   "interpreter": {
    "hash": "916dbcbb3f70747c44a77c7bcd40155683ae19c65e1c03b4aa3499c5328201f1"
   }
  }
 },
 "nbformat": 4,
 "nbformat_minor": 2
}
